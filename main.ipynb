{
 "cells": [
  {
   "cell_type": "code",
   "execution_count": 10,
   "metadata": {},
   "outputs": [],
   "source": [
    "# pip install pypdf\n",
    "# pip install langchain\n",
    "\n",
    "# PyPDFLoader is used to load pdf document and split it into smaller document/pages.\n",
    "from langchain.document_loaders import PyPDFLoader\n",
    "\n",
    "# Chroma is a open source vector database.\n",
    "from langchain.vectorstores import Chroma\n",
    "\n",
    "# OpenAI Embeddings is used to convert documents/pages to vector/embeddings.\n",
    "from langchain.embeddings.openai import OpenAIEmbeddings"
   ]
  },
  {
   "cell_type": "code",
   "execution_count": 3,
   "metadata": {},
   "outputs": [],
   "source": [
    "\n",
    "\n",
    "# Load your PDF document.\n",
    "loader = PyPDFLoader(\"./james-clear-transform-your-habits-v3.pdf\")\n",
    "pages = loader.load_and_split()"
   ]
  },
  {
   "cell_type": "code",
   "execution_count": 5,
   "metadata": {},
   "outputs": [
    {
     "data": {
      "text/plain": [
       "48"
      ]
     },
     "execution_count": 5,
     "metadata": {},
     "output_type": "execute_result"
    }
   ],
   "source": [
    "len(pages)"
   ]
  },
  {
   "cell_type": "code",
   "execution_count": 6,
   "metadata": {},
   "outputs": [],
   "source": [
    "# Get API keys from https://platform.openai.com/account/api-keys.\n",
    "\n",
    "from my_api_key import OPENAI_API_KEY\n"
   ]
  },
  {
   "cell_type": "code",
   "execution_count": 13,
   "metadata": {},
   "outputs": [
    {
     "name": "stderr",
     "output_type": "stream",
     "text": [
      "Using embedded DuckDB with persistence: data will be stored in: db\n"
     ]
    }
   ],
   "source": [
    "# Embed and store the texts in vector format to a local directory.\n",
    "# Supplying a persist_directory will store the embeddings on disk.\n",
    "persist_directory = 'db'\n",
    "\n",
    "# pip install openai\n",
    "embeddings = OpenAIEmbeddings(openai_api_key=OPENAI_API_KEY)\n",
    "\n",
    "# pip install chromadb\n",
    "vectordb = Chroma.from_documents(documents=pages, embedding=embeddings, persist_directory=persist_directory)"
   ]
  },
  {
   "cell_type": "code",
   "execution_count": 14,
   "metadata": {},
   "outputs": [],
   "source": [
    "# Run this line of code to persist the data in a local disk.\n",
    "vectordb.persist()\n",
    "\n",
    "# Making vectordb variable as None.\n",
    "vectordb = None"
   ]
  },
  {
   "cell_type": "code",
   "execution_count": 15,
   "metadata": {},
   "outputs": [
    {
     "name": "stderr",
     "output_type": "stream",
     "text": [
      "Using embedded DuckDB with persistence: data will be stored in: db\n"
     ]
    }
   ],
   "source": [
    "# Now we can load the persisted database from disk, and use it as normal. \n",
    "vectordb = Chroma(persist_directory=persist_directory, embedding_function=embeddings)"
   ]
  },
  {
   "cell_type": "code",
   "execution_count": 16,
   "metadata": {},
   "outputs": [
    {
     "name": "stderr",
     "output_type": "stream",
     "text": [
      "/Users/abidsaudagar/Personal/Question-your-local-pdf-using-ChatGPT-and-LangChain/venv/lib/python3.9/site-packages/langchain/chains/retrieval_qa/base.py:183: UserWarning: `VectorDBQA` is deprecated - please use `from langchain.chains import RetrievalQA`\n",
      "  warnings.warn(\n"
     ]
    }
   ],
   "source": [
    "from langchain import VectorDBQA, OpenAI\n",
    "\n",
    "# Initiating the model with VectorDBQA.\n",
    "model = VectorDBQA.from_chain_type(llm=OpenAI(openai_api_key=OPENAI_API_KEY), chain_type=\"stuff\", vectorstore=vectordb, return_source_documents=True)"
   ]
  },
  {
   "attachments": {},
   "cell_type": "markdown",
   "metadata": {},
   "source": [
    "### Lets start asking questions to our PDF!!"
   ]
  },
  {
   "cell_type": "code",
   "execution_count": 21,
   "metadata": {},
   "outputs": [
    {
     "data": {
      "text/plain": [
       "{'query': 'how to break bad habits?',\n",
       " 'result': ' Breaking bad habits takes time and effort, but mostly it takes perseverance. To start, track how many times per day the bad habit happens and put a plan in place for what you will do instead of your bad habit when you get the urge. Additionally, cut out triggers, join forces with somebody, and visualize yourself succeeding. To help break your bad habits, replace them with healthier behaviors that address the same need.',\n",
       " 'source_documents': [Document(page_content='Cut out as many triggers as possible.\\u200b If you smoke when you drink, then don’t go to \\nthe bar. If you eat cookies when they are in the house, then throw them all away. If \\nthe first thing you do when you sit on the couch is pick up the TV remote, then hide \\nthe remote in a closet in a different room. Make it easier on yourself to break bad \\nhabits by avoiding the things that cause them.  \\n \\nRight now, your environment makes your bad habit easier and good habits harder. \\nChange your environment and you can change the outcome.  \\n \\nJoin forces with somebody.\\u200b How often do you try to diet in private? Or maybe you \\n“quit smoking” … but you kept it to yourself? (That way no one will see you fail, \\nright?)  \\n \\nInstead, pair up with someone and quit together. The two of you can hold each \\nother accountable and celebrate your victories together. Knowing that someone \\nelse expects you to be better is a powerful motivator.  \\n \\nVisualize yourself succeeding.\\u200b See yourself throwing away the cigarettes or buying \\nhealthy food or waking up early. Whatever the bad habit is that you are looking to \\nbreak, visualize yourself crushing it, smiling, and enjoying your success. See \\nyourself building a new identity.  \\n \\nYou don’t need to be someone else, you just need to return to the old you.\\u200b So often we \\nthink that to break our bad habits, we need to become an entirely new person. The \\ntruth is that you already have it in you to be someone without your bad habits. In \\nfact, it’s very unlikely that you had these bad habits all of your life. You don’t need \\nto quit smoking, you just need to return to being a non– smoker. You don’t need to \\ntransform into a healthy person, you just need to return to being healthy. Even if it \\nwas years ago, you have already lived without this bad habit, which means you can \\nmost definitely do it again.  \\n \\n \\nJamesClear.com Page 41', metadata={'source': './james-clear-transform-your-habits-v3.pdf', 'page': 41}),\n",
       "  Document(page_content=\"How to Break a Bad Habit (and \\nReplace it With a Good One)  \\n \\n \\nWe've covered a lot of information on how to build good habits, but what about \\nbreaking bad ones?  \\n \\nBad habits interrupt your life and prevent you from accomplishing your goals. They \\njeopardize your health — both mentally and physically. And they waste your time \\nand energy.  \\n \\nSo why do we still do them? And most importantly, is there anything you can do \\nabout it? How can you delete your bad behaviors and stick to good ones instead?  \\n \\nI certainly don’t have all of the answers, but keep reading and I’ll share what I’ve \\nlearned about how to break a bad habit.  \\n \\n \\nWhat causes bad habits?  \\n \\nMost of your bad habits are caused by two things…  \\n \\nStress and boredom.  \\n \\nMost of the time, bad habits are simply a way of dealing with stress and boredom. \\nEverything from biting your nails to overspending on a shopping spree to drinking \\nevery weekend to wasting time on the internet can be a simple  \\n \\nJamesClear.com Page 38\", metadata={'source': './james-clear-transform-your-habits-v3.pdf', 'page': 38}),\n",
       "  Document(page_content='Here’s a simple way to start: just track how many times per day your bad habit \\nhappens. Put a piece of paper in your pocket and a pen. Each time your bad habit \\nhappens, mark it down on your paper. At the end of the day, count up all of the \\ntally marks and calculate your total.  \\n \\nIn the beginning your goal isn’t to judge yourself or feel guilty about doing \\nsomething unhealthy or unproductive. The only goal is to be aware of when it \\nhappens and how often it happens. Wrap your head around the problem by being \\naware of it. Then, you can start to implement the ideas in this article and break \\nyour bad habit.  \\n \\nBreaking bad habits takes time and effort, but mostly it takes perseverance. Most \\npeople who end up breaking their bad habits try and fail multiple times before they \\nmake it work. You might not have success right away, but that doesn’t mean you \\ncan’t have it at all.  \\n  \\n \\nJamesClear.com Page 43', metadata={'source': './james-clear-transform-your-habits-v3.pdf', 'page': 43}),\n",
       "  Document(page_content='destroys your productivity, divides your attention, and overwhelms you with \\nstress. But, it prevents you from feeling like you’re “missing out” … and so you do \\nit again.  \\n \\nBecause bad habits provide some type of benefit in your life, it’s very difficult to \\nsimply eliminate them. (This is why simplistic advice like “just stop doing it” \\nrarely works.) Instead, you need to replace a bad habit with a new habit that \\nprovides a similar benefit.  \\n \\nFor example, if you smoke when you get stressed, then it’s a bad plan to “just stop \\nsmoking” when that happens. Instead, you should come up with a different way to \\ndeal with stress and insert that new behavior instead of having a cigarette.  \\n \\nIn other words, bad habits address certain needs in your life. And for that reason, \\nit’s better to replace your bad habits with a healthier behavior that addresses that \\nsame need. If you expect yourself to simply cut out bad habits without replacing \\nthem, then you’ll have certain needs that will be unmet and it’s going to be hard to \\nstick to a routine of “just don’t do it” for very long.  \\n \\n \\nHow to break a bad habit  \\n \\nHere are some additional ideas for breaking your bad habits and thinking about the \\nprocess in a new way.  \\n \\nChoose a substitute for your bad habit.\\u200b You need to have a plan ahead of time for how \\nyou will respond when you face the stress or boredom that prompts your bad habit. \\nWhat are you going to do when you get the urge to smoke? (Example: breathing \\nexercises instead.) What are you going to do when Facebook is calling to you to \\nprocrastinate? (Example: write one sentence for work.) Whatever it is and \\nwhatever you’re dealing with, you need to have a plan for what you will do instead \\nof your bad habit.  \\n \\nJamesClear.com Page 40', metadata={'source': './james-clear-transform-your-habits-v3.pdf', 'page': 40})]}"
      ]
     },
     "execution_count": 21,
     "metadata": {},
     "output_type": "execute_result"
    }
   ],
   "source": [
    "question = \"how to break bad habits?\"\n",
    "\n",
    "# Here response will give us answer to our question, as well as the source pages from which model extracted the answer.\n",
    "\n",
    "response = model({\"query\":question})\n",
    "response"
   ]
  },
  {
   "cell_type": "markdown",
   "metadata": {},
   "source": []
  },
  {
   "cell_type": "code",
   "execution_count": 22,
   "metadata": {},
   "outputs": [
    {
     "data": {
      "text/plain": [
       "{'query': 'some examples of making it easy to get started?',\n",
       " 'result': ' Examples of making it easy to get started include reducing the number of steps required to do the habit (like flossing only one tooth), setting up an environment that makes the habit easier to do (like putting your running shoes by the front door), and rewarding yourself for sticking to the habit (like treating yourself to a piece of chocolate after you go for a run).',\n",
       " 'source_documents': [Document(page_content='In the second list, write down the things that happen to you each day...  \\n \\n★You stop at a red light.  \\n★You get a text message.  \\n★A commercial comes on TV.  \\n★A song ends.  \\n★The sun sets.  \\n \\nThese events can also act as triggers for your new habit. For example, if you wanted \\nto “\\u200bWhen a commercial comes on TV, I do five pushups.\\u200b”  \\n \\nWith these two lists, you’ll have a wide range of things that you already do and \\nalready respond to each day. Those are the perfect reminders for new habits.  \\n \\nFor example, let’s say you want to feel happier. Expressing gratitude is one proven \\nway to boost happiness. Using the list above, you could pick the reminder “sit \\ndown for dinner” and use it as a cue to say one thing that you’re grateful for today.  \\n \\n“\\u200bWhen I sit down for dinner, I say one thing that I’m grateful for today.\\u200b”  \\n \\nThat’s the type of small behavior that could blossom into a more grateful outlook \\non life in general.  \\n \\n \\nStep 2: Make Your Habits Incredibly Easy to Start  \\n \\nMake it so easy you can’t say no.  \\n—Leo Babauta \\n \\nAs I mentioned in the beginning of this guide, it’s incredibly easy to get caught up \\nin the desire to make massive changes in your life. We watch incredible weight loss \\n \\nJamesClear.com Page 12', metadata={'source': './james-clear-transform-your-habits-v3.pdf', 'page': 12}),\n",
       "  Document(page_content='With this simple environment change, I made it easy to do the new habit and I \\ndidn’t need more willpower or motivation to do it.  \\n \\nDevelop a Plan for Bouncing Back  \\n \\nChange can be hard. In the beginning, your healthy habits might take two \\nsteps forward and one step back. Anticipating those backward steps and \\ndeveloping a plan for getting back on track quickly can make all the difference \\nin the world. \\n \\n  \\n \\nJamesClear.com Page 37', metadata={'source': './james-clear-transform-your-habits-v3.pdf', 'page': 37}),\n",
       "  Document(page_content='transformations and think that we need to lose 30 pounds in the next 4 weeks. We \\nsee elite athletes on TV and wish that we could run faster and jump higher \\ntomorrow. We want to earn more, do more, and be more … right now.  \\n \\nI’ve felt those things too, so I get it. And in general, I applaud the enthusiasm. I’m \\nglad that you want great things for your life and I want to do what I can to help you \\nachieve them. But it’s important to remember that lasting change is a product of \\ndaily habits, not once-in-a-lifetime transformations.  \\n \\nIf you want to start a new habit and begin living healthier and happier, then I have \\none suggestion that I cannot emphasis enough: start small. In the words of Leo \\nBabauta, “make it so easy that you can’t say no.”  \\n \\nHow small? Stanford professor BJ Fogg suggests that people who want to start \\nflossing begin by flossing only one tooth. Just one.  \\n \\nIn the beginning, performance doesn’t matter. What does matter is becoming the \\ntype of person who always sticks to your new habit – no matter how small or \\ninsignificant it seems. You can build up to the level of performance that you want \\nonce the behavior becomes consistent.  \\n \\nYour homework:\\u200b Pick a new habit you want to start. Now ask yourself, “How can I \\nmake this new behavior so easy to do that I can’t say no?”  \\n \\n \\nStep 3: Always Reward Yourself  \\n \\nIt’s important to celebrate. (I think that’s just as true in life as it is with habits.)  \\n \\nWhen it comes to sticking to better habits, there is an important reason to always \\nreward yourself: we want to continue doing things that make us feel good.  \\n \\n \\nJamesClear.com Page 13', metadata={'source': './james-clear-transform-your-habits-v3.pdf', 'page': 13}),\n",
       "  Document(page_content=\"The Best Way to Start Your New Habit \\n \\n  \\nIf you’re serious about doing things better than you are now – in other words, if \\nyou're serious about sticking to good habits – then you have to start small.  \\n \\nImagine the typical habits, good or bad: Brushing your teeth. Putting your seatbelt \\non. Biting your nails.  \\n \\nThese actions are small enough that you don’t even think about them. You simply \\ndo them automatically. They are tiny actions that become consistent patterns.  \\n \\nWouldn’t it make sense that if we wanted to form new habits, the best way to start \\nwould be to make tiny changes that our brain could quickly learn and automatically \\nrepeat?  \\n \\nWhat if you started thinking of your life goals, not as big, audacious things that you \\ncan only achieve when the time is right or when you have better resources or when \\nyou finally catch your big break … but instead as tiny, daily behaviors that are \\nrepeated until success becomes inevitable?  \\n \\nWhat if losing 50 pounds wasn’t dependent on a researcher discovering the perfect \\ndiet or you finding a superhuman dose of willpower, but hinged on a series of tiny \\nhabits that you could always control? Habits like walking for 20 minutes per day, \\ndrinking 8 glasses of water per day, eating two meals instead of three. \\n \\nToo often we get obsessed with making life–changing transformations. I believe \\nyou would make more progress by focusing on lifestyle behaviors. \\n\\xa0\\n \\nJamesClear.com Page 22\", metadata={'source': './james-clear-transform-your-habits-v3.pdf', 'page': 22})]}"
      ]
     },
     "execution_count": 22,
     "metadata": {},
     "output_type": "execute_result"
    }
   ],
   "source": [
    "question = \"some examples of making it easy to get started?\"\n",
    "\n",
    "response = model({\"query\":question})\n",
    "response"
   ]
  },
  {
   "cell_type": "code",
   "execution_count": null,
   "metadata": {},
   "outputs": [],
   "source": []
  },
  {
   "cell_type": "code",
   "execution_count": 23,
   "metadata": {},
   "outputs": [
    {
     "data": {
      "text/plain": [
       "{'query': 'who is the author of the book?',\n",
       " 'result': ' The author of the book is James Clear.',\n",
       " 'source_documents': [Document(page_content='TRANSFORM YOUR HABITS  \\n3rd Edition \\n \\n \\nNote from James Clear:  \\n \\nI wrote Transform Your Habits to create a free guide that would help people like \\nyou make progress in health, business, and life. You are welcome to share it with \\nanyone you think it would benefit. The latest version of Transform Your Habits can \\nalways be downloaded at \\u200bjamesclear.com/habits \\n \\nFor more ideas on how to master your habits, improve your performance, and \\nboost your mental and physical health, you can visit JamesClear.com or join my \\nfree newsletter at \\u200bjamesclear.com/newsletter \\n \\nAs always, thanks for reading. \\n \\n-James \\n \\n \\n  \\n \\nJamesClear.com Page 1', metadata={'source': './james-clear-transform-your-habits-v3.pdf', 'page': 1}),\n",
       "  Document(page_content=\"1.Knowledge is useless without action. You know what to do, now it's time to \\ndo it. If you have a goal that is important to you, then use these ideas to \\nmake it a reality.  \\n \\n2.Our community is here to support you. Each week, I write articles for a small \\ncommunity of people who are committed to getting better, living healthier, \\nand making the world a better place. For my part, I do my best to help them \\nachieve their goals. And I'd like to do the same for you.  \\n \\nIf you have questions, you can always contact me at http://jamesclear.com  \\n \\nI don't have it all figured out, but I'm doing my best to walk the slow march toward \\ngreatness with you. If there's anything I can do, please know that I'm here to help \\nhowever I can.  \\n \\n \\nNever settle,  \\nJames Clear \\n \\n \\n \\n \\n \\n \\n \\n \\n \\n \\n \\n \\n \\n \\n \\nJamesClear.com Page 48\", metadata={'source': './james-clear-transform-your-habits-v3.pdf', 'page': 48}),\n",
       "  Document(page_content='10 Things This Guide Will Teach You  \\n \\n1.How to reverse your bad habits and stick to good ones.  \\n2.The science of how your brain processes habits.  \\n3.The common mistakes most people make (and how to avoid them).  \\n4.How to overcome a lack of motivation and willpower.  \\n5.How to develop a stronger identity and believe in yourself.  \\n6.How to make time for new habits (even when your life gets crazy).  \\n7.How to design your environment to make success easier.  \\n8.How to make big changes in your life without overwhelming yourself.  \\n9.How to get back on track when you get off course with your goals.  \\n10.And most importantly, how to put these ideas into practice in real life. \\n  \\n \\nJamesClear.com Page 2', metadata={'source': './james-clear-transform-your-habits-v3.pdf', 'page': 2}),\n",
       "  Document(page_content=\"The Common Mistake You Want to \\nAvoid \\n \\n \\n“Your audacious life goals are fabulous. We’re proud of you for having them. But it’s \\npossible that those goals are designed to distract you from the thing that’s really \\nfrightening you—the shift in daily habits that would mean a re–invention of how you see \\nyourself.” \\n—Seth Godin \\n \\nTransformations and overnight successes get a lot of hype. (For good reason, who \\nwouldn't want to be more successful in less time?)  \\n \\nBut here's the problem: when you hear about a dramatic transformation (like \\nsomeone losing 100 pounds) or a incredible success story (like someone building a \\nmillion dollar business in 1 year), the only thing you know is the event that people \\nare talking about. You don't hear anything about the process that came before it or \\nabout the habits that led to the eventual result.  \\n \\nIt's easy to let these incredible stories trick you into doing too much, too soon. I \\nknow I've done it. When you get motivated and inspired to take your life to the \\nnext level, it's so easy to get obsessed with the result. I need to lose 20 pounds (or \\n40 or 60 or 100). I need to squat 300 pounds (or 400 or 500). I need to meditate 3 \\ndays per week (or 5 or 7).  \\n \\nOr thousands of other variations of your life goals.  \\n \\n \\nJamesClear.com Page 5\", metadata={'source': './james-clear-transform-your-habits-v3.pdf', 'page': 5})]}"
      ]
     },
     "execution_count": 23,
     "metadata": {},
     "output_type": "execute_result"
    }
   ],
   "source": [
    "question = \"who is the author of the book?\"\n",
    "response = model({\"query\":question})\n",
    "response"
   ]
  },
  {
   "cell_type": "code",
   "execution_count": 24,
   "metadata": {},
   "outputs": [
    {
     "data": {
      "text/plain": [
       "{'query': 'Why we slip on our good habits?',\n",
       " 'result': \" We usually try to make changes in the wrong way and don't have a plan for bouncing back when we inevitably slip up.\",\n",
       " 'source_documents': [Document(page_content=\"Why Is It So Hard to Stick to Good \\nHabits? \\n \\n \\nIt seems to be remarkably easy to fall into unhealthy routines.  \\n \\n★Eating junk food.  \\n★Watching TV instead of going to the gym.  \\n★Showing up to a job you hate everyday.  \\n★Biting your nails. \\n★Smoking.  \\n \\nThere’s no shortage of unhealthy and unproductive behaviors. And we all struggle \\nwith them from time to time. \\n \\nBut why? You want to live a healthy, fulfilling, and remarkable life. And every now \\nand then you probably get really motivated and inspired to make a change. So how \\ncome it is more likely that this time next year you'll be doing the same thing rather \\nthan something better? Why is it so hard to stick to good habits?  \\n \\nI believe that it is because we usually try to make changes in the wrong way. And in \\nthis guide, I'm going to share a blend of science and real-world experiences that \\nshare a better strategy for making long-term changes in your life.  \\n \\nLet's get started. \\n  \\n \\nJamesClear.com Page 4\", metadata={'source': './james-clear-transform-your-habits-v3.pdf', 'page': 4}),\n",
       "  Document(page_content=\"How to Get Back on Track After \\nSlipping Up  \\n \\n \\nHabit formation hinges on your ability to bounce back. There will always be \\ninstances when following your regular routine is basically impossible.  \\n \\nBut small hiccups don’t make you a failure, they make you human. The most \\nsuccessful people in the world slip up on their habits too. What separates them \\nisn’t their ability to avoid mistakes, it’s their ability to get back on track quickly.  \\n \\nThe important thing to realize is that the best strategy isn't to avoid failure, it's to \\nplan for it. Using the 4 strategies below, you can “plan for chaos” and develop a \\nstrategy for getting back on track before you get off course.  \\n \\n \\n1. Put your habits on your calendar.  \\n \\nClaiming that you want to accomplish vague goals (i.e. “\\u200bI want to eat healthier\\u200b”) \\ndoesn't give your mind a clear schedule to operate by.  \\n \\nYour habits need a time and place to live in your life.  \\n \\nWant to get back on track with your writing schedule? 9am on Monday morning. \\nButt in chair. Hands on keyboard. That’s when this is happening.  \\n \\n \\nJamesClear.com Page 33\", metadata={'source': './james-clear-transform-your-habits-v3.pdf', 'page': 33}),\n",
       "  Document(page_content='Table of Contents \\n \\n \\nWhy Is It so Hard to Stick to Good Habits?  4 \\nThe Common Mistake You Want to Avoid 5 \\nThe Science of How Your Habits Work 8 \\nIdentity-Based Habits: How to Actually Stick to Your Goals  17 \\nThe Best Way to Start a New Habit 21 \\nHow to Fit New Habits into Your Life 24 \\nHow to Make Big Changes Without Overwhelming Yourself 29 \\nHow to Get Back on Track After Slipping up 34 \\nHow to Break a Bad Habit (and Replace It With a Good One) 37 \\nHow to Slowly Eliminate Bad Habits 43 \\nThe Next Step: Where to Go From Here 46 \\n \\n \\n \\nJamesClear.com Page 3', metadata={'source': './james-clear-transform-your-habits-v3.pdf', 'page': 3}),\n",
       "  Document(page_content=\"What you repeatedly do (i.e. what you spend time thinking about and doing each \\nday) ultimately forms the person you are, the things you believe, and the \\npersonality that you portray.  \\n \\nThe most common mistake that people make is setting their sights on an event, a \\ntransformation, an overnight success they want to achieve – rather than focusing \\non their habits and routines.  \\n \\nI've been guilty of this just like everyone else. And even today, I'm still learning \\nhow to master my habits just like you. \\n \\nBut over time, I've discovered a helpful blend of academic research and real world \\nexperiences that have allowed me to make progress in many areas of life. In this \\nguide, I want to share that progress with you so that you can avoid chasing another \\novernight success and actually stick to your goals for the long-term.  \\n \\nLet's get started by talking about the science of sticking to good habits. \\n \\n  \\n \\nJamesClear.com Page 7\", metadata={'source': './james-clear-transform-your-habits-v3.pdf', 'page': 7})]}"
      ]
     },
     "execution_count": 24,
     "metadata": {},
     "output_type": "execute_result"
    }
   ],
   "source": [
    "question = \"Why we slip on our good habits?\"\n",
    "response = model({\"query\":question})\n",
    "response"
   ]
  },
  {
   "cell_type": "code",
   "execution_count": 25,
   "metadata": {},
   "outputs": [
    {
     "data": {
      "text/plain": [
       "{'query': \"What are three R's of building a new habit?\",\n",
       " 'result': \" The three R's of building a new habit are Reminder (the trigger that initiates the behavior), Routine (the behavior itself; the action you take), and Reward (the benefit you gain from doing the behavior).\",\n",
       " 'source_documents': [Document(page_content=\"The Science of How Your Habits \\nWork (The 3 R's of Habit Change) \\n \\n \\nThere is a simple 3–step pattern that every habit follows. I call this pattern the “3 \\nR's of Habit Change” and it goes like this...  \\n \\n1. Reminder (the trigger that initiates the behavior)  \\n2. Routine (the behavior itself; the action you take)  \\n3. Reward (the benefit you gain from doing the behavior)  \\n \\nThis sequence has been proven over and over again by behavioral psychology \\nresearchers. I originally learned of this cycle from Stanford professor, BJ Fogg. And \\nmore recently, I read about it in Charles Duhigg’s best–selling book, The Power of \\nHabit.  \\n \\n(Duhigg’s book refers to the three steps as cue, routine, reward. Regardless of how \\nit's phrased, the point is that there is a lot of science behind the process of habit \\nformation, and so we can be relatively confident that your habits follow the same \\ncycle.)  \\n \\nLet me show you what the 3 R's look like in real life by applying the framework to a \\ntypical habit. (In this case, answering a phone call.)  \\n \\nStep One:\\u200b Your phone rings (reminder). This is the reminder that initiates the \\nbehavior. The ring acts as a trigger or cue to tell you to answer the phone. It is the \\nprompt that starts the behavior. \\n \\n \\nJamesClear.com Page 8\", metadata={'source': './james-clear-transform-your-habits-v3.pdf', 'page': 8}),\n",
       "  Document(page_content=\"How to Fit New Habits Into Your Life  \\n \\n \\nKnowing how to make changes is one thing, but fitting new goals into your \\nlife is something else entirely.  \\n \\nMaking changes is tough. Whenever your schedule gets crazy, the inertia of life can \\npull you away from your goals and right back into your old habits.  \\n \\nHow can you overcome this tendency to fall off course and make time for new goals \\nin your schedule?  \\n \\nUsing the strategies already mentioned in this guide – like the 3 R's of habit \\nchange and identity-based habits – will help keep you on track.  \\n \\nBut those strategies aren't the only tools at your disposal. In this section, I'll share \\nanother way to stick to good habits that doesn't require incredible doses of \\nwillpower or remarkable motivation. I'll also share two examples of how I've used \\nthis strategy successfully in my own life.  \\n \\n \\nThe Problem With How We Usually Set Goals  \\n \\nIf you’re anything like the typical human, then you have dreams and goals in your \\nlife. In fact, there are probably many things — large and small — that you would \\nlike to accomplish.  \\n \\nThat’s great, but there is one common mistake we often make when it comes to  \\n \\nJamesClear.com Page 25\", metadata={'source': './james-clear-transform-your-habits-v3.pdf', 'page': 25}),\n",
       "  Document(page_content=\"Here’s how…  \\n \\nStep 1: Use a Current Habit as the Reminder for \\nYour New One \\n \\nIf you talk to your friends about starting a new habit, they might tell you that you \\nneed to exercise self–control or that you need to find a new dose of willpower.  \\n \\nI disagree.  \\n \\nGetting motivated and trying to remember to do a new behavior is the exact wrong \\nway to go about it. If you think about this, it makes sense. Sometimes you feel \\nmotivated and sometimes you don't, right? So why would you want to rely on \\nmotivation (something that changes) to create a new habit (something that you \\nwant to be consistent)?  \\n \\nThis is why the reminder – the trigger for your new behavior – is such a critical part \\nof forming new habits. A good reminder makes it easier for you to start your habit \\nby encoding your new behavior in something that you already do, rather than \\nrelying on getting motivated.  \\n \\nFor example, I created a new habit of flossing each day by always doing it after \\nbrushing my teeth. The act of brushing my teeth was something that I already did \\nand it acted as the trigger or cue to do my new behavior.  \\n \\nTo make things even easier and prevent myself from having to remember to floss, I \\nbought a bowl, placed it next to my toothbrush, and put a handful of pre–made \\nflossers in it. Now I see the floss every time I reach for my toothbrush. \\n \\n \\nJamesClear.com Page 10\", metadata={'source': './james-clear-transform-your-habits-v3.pdf', 'page': 10}),\n",
       "  Document(page_content=\"The Next Step: Where to Go From \\nHere  \\n \\n \\nWe've covered a lot of ground in this guide.  \\n \\nWe talked about the science of habit formation and the 3-step process that governs \\nall habits. We talked about how to setup your new habits for success by using \\nreminders and rewards.  \\n \\nWe talked about focusing on your identity first and leaving the performance and \\nappearance based goals for later.  \\n \\nWe talked about the power of setting a schedule and not holding yourself to a \\ndeadline. This is particularly useful when your life gets crazy because you can \\nreduce the scope and stay on task.  \\n \\nWe talked about how to use keystone habits to make change throughout your \\nentire life without getting overwhelmed.  \\n \\nAnd we covered 4 strategies for bouncing back after getting off track – because we \\nall slip up every now and then.  \\n \\nWith these ideas, you should be well equipped to make change in your life and stick \\nto healthier habits for the long-term, which brings me to my final two points.  \\n \\n \\nJamesClear.com Page 47\", metadata={'source': './james-clear-transform-your-habits-v3.pdf', 'page': 47})]}"
      ]
     },
     "execution_count": 25,
     "metadata": {},
     "output_type": "execute_result"
    }
   ],
   "source": [
    "question = \"What are three R's of building a new habit?\"\n",
    "response = model({\"query\":question})\n",
    "response"
   ]
  },
  {
   "cell_type": "code",
   "execution_count": 26,
   "metadata": {},
   "outputs": [
    {
     "data": {
      "text/plain": [
       "{'query': 'how to keep following good habits?',\n",
       " 'result': ' It is important to reward yourself each time you practice your new habit. Give yourself some credit and enjoy each small success. Additionally, make sure that the habits you are trying to build are important to you, as it is tough to find a reward in something when you’re only doing it because you think other people expect it or would approve of it.',\n",
       " 'source_documents': [Document(page_content=\"The Best Way to Start Your New Habit \\n \\n  \\nIf you’re serious about doing things better than you are now – in other words, if \\nyou're serious about sticking to good habits – then you have to start small.  \\n \\nImagine the typical habits, good or bad: Brushing your teeth. Putting your seatbelt \\non. Biting your nails.  \\n \\nThese actions are small enough that you don’t even think about them. You simply \\ndo them automatically. They are tiny actions that become consistent patterns.  \\n \\nWouldn’t it make sense that if we wanted to form new habits, the best way to start \\nwould be to make tiny changes that our brain could quickly learn and automatically \\nrepeat?  \\n \\nWhat if you started thinking of your life goals, not as big, audacious things that you \\ncan only achieve when the time is right or when you have better resources or when \\nyou finally catch your big break … but instead as tiny, daily behaviors that are \\nrepeated until success becomes inevitable?  \\n \\nWhat if losing 50 pounds wasn’t dependent on a researcher discovering the perfect \\ndiet or you finding a superhuman dose of willpower, but hinged on a series of tiny \\nhabits that you could always control? Habits like walking for 20 minutes per day, \\ndrinking 8 glasses of water per day, eating two meals instead of three. \\n \\nToo often we get obsessed with making life–changing transformations. I believe \\nyou would make more progress by focusing on lifestyle behaviors. \\n\\xa0\\n \\nJamesClear.com Page 22\", metadata={'source': './james-clear-transform-your-habits-v3.pdf', 'page': 22}),\n",
       "  Document(page_content=\"How to Get Back on Track After \\nSlipping Up  \\n \\n \\nHabit formation hinges on your ability to bounce back. There will always be \\ninstances when following your regular routine is basically impossible.  \\n \\nBut small hiccups don’t make you a failure, they make you human. The most \\nsuccessful people in the world slip up on their habits too. What separates them \\nisn’t their ability to avoid mistakes, it’s their ability to get back on track quickly.  \\n \\nThe important thing to realize is that the best strategy isn't to avoid failure, it's to \\nplan for it. Using the 4 strategies below, you can “plan for chaos” and develop a \\nstrategy for getting back on track before you get off course.  \\n \\n \\n1. Put your habits on your calendar.  \\n \\nClaiming that you want to accomplish vague goals (i.e. “\\u200bI want to eat healthier\\u200b”) \\ndoesn't give your mind a clear schedule to operate by.  \\n \\nYour habits need a time and place to live in your life.  \\n \\nWant to get back on track with your writing schedule? 9am on Monday morning. \\nButt in chair. Hands on keyboard. That’s when this is happening.  \\n \\n \\nJamesClear.com Page 33\", metadata={'source': './james-clear-transform-your-habits-v3.pdf', 'page': 33}),\n",
       "  Document(page_content=\"Why Is It So Hard to Stick to Good \\nHabits? \\n \\n \\nIt seems to be remarkably easy to fall into unhealthy routines.  \\n \\n★Eating junk food.  \\n★Watching TV instead of going to the gym.  \\n★Showing up to a job you hate everyday.  \\n★Biting your nails. \\n★Smoking.  \\n \\nThere’s no shortage of unhealthy and unproductive behaviors. And we all struggle \\nwith them from time to time. \\n \\nBut why? You want to live a healthy, fulfilling, and remarkable life. And every now \\nand then you probably get really motivated and inspired to make a change. So how \\ncome it is more likely that this time next year you'll be doing the same thing rather \\nthan something better? Why is it so hard to stick to good habits?  \\n \\nI believe that it is because we usually try to make changes in the wrong way. And in \\nthis guide, I'm going to share a blend of science and real-world experiences that \\nshare a better strategy for making long-term changes in your life.  \\n \\nLet's get started. \\n  \\n \\nJamesClear.com Page 4\", metadata={'source': './james-clear-transform-your-habits-v3.pdf', 'page': 4}),\n",
       "  Document(page_content=\"And that is why it’s especially important that you reward yourself each time you \\npractice your new habit.  \\n \\nFor example, if I’m working towards a new fitness goal, then I’ll often tell myself \\nat the end of a workout, “That was good day.” Or, “Good job. You made progress \\ntoday.”  \\n \\nIf you feel like it, you could even tell yourself “Victory!” or “Success!” each time \\nyou do your new habit.  \\n \\nI haven’t done this myself, but some people swear by it.  \\n \\n★Floss one tooth. “Victory!”  \\n★Eat a healthy meal. “Success!”  \\n★Do five pushups. “Good work!”  \\n \\nRewarding yourself with positive self–talk can take some getting used to if you’re \\nnot someone who typically does that. But even if it sounds silly, research has \\nproven that the reward is an important part of the habit process. Give yourself \\nsome credit and enjoy each small success.  \\n \\nRelated note: Make sure that the habits you are trying to build are actually important to \\nyou. It’s tough to find a reward in something when you’re only doing it because you think \\nother people expect it or would approve of it. It's your life, so make sure you're spending \\nyour time on things that are important to you. \\n \\nNow that we've covered the science of habit formation, let's talk about how to use \\nit in real life.  \\n \\n \\n \\n \\n \\n \\nJamesClear.com Page 14\", metadata={'source': './james-clear-transform-your-habits-v3.pdf', 'page': 14})]}"
      ]
     },
     "execution_count": 26,
     "metadata": {},
     "output_type": "execute_result"
    }
   ],
   "source": [
    "question = \"how to keep following good habits?\"\n",
    "response = model({\"query\":question})\n",
    "response"
   ]
  },
  {
   "cell_type": "code",
   "execution_count": 27,
   "metadata": {},
   "outputs": [
    {
     "data": {
      "text/plain": [
       "{'query': 'what are some example of sticking to a habit?',\n",
       " 'result': \" Examples of sticking to a habit include walking for 20 minutes per day, drinking 8 glasses of water per day, eating two meals instead of three, expressing gratitude, and saying one thing that you're grateful for each day.\",\n",
       " 'source_documents': [Document(page_content=\"The Best Way to Start Your New Habit \\n \\n  \\nIf you’re serious about doing things better than you are now – in other words, if \\nyou're serious about sticking to good habits – then you have to start small.  \\n \\nImagine the typical habits, good or bad: Brushing your teeth. Putting your seatbelt \\non. Biting your nails.  \\n \\nThese actions are small enough that you don’t even think about them. You simply \\ndo them automatically. They are tiny actions that become consistent patterns.  \\n \\nWouldn’t it make sense that if we wanted to form new habits, the best way to start \\nwould be to make tiny changes that our brain could quickly learn and automatically \\nrepeat?  \\n \\nWhat if you started thinking of your life goals, not as big, audacious things that you \\ncan only achieve when the time is right or when you have better resources or when \\nyou finally catch your big break … but instead as tiny, daily behaviors that are \\nrepeated until success becomes inevitable?  \\n \\nWhat if losing 50 pounds wasn’t dependent on a researcher discovering the perfect \\ndiet or you finding a superhuman dose of willpower, but hinged on a series of tiny \\nhabits that you could always control? Habits like walking for 20 minutes per day, \\ndrinking 8 glasses of water per day, eating two meals instead of three. \\n \\nToo often we get obsessed with making life–changing transformations. I believe \\nyou would make more progress by focusing on lifestyle behaviors. \\n\\xa0\\n \\nJamesClear.com Page 22\", metadata={'source': './james-clear-transform-your-habits-v3.pdf', 'page': 22}),\n",
       "  Document(page_content='In the second list, write down the things that happen to you each day...  \\n \\n★You stop at a red light.  \\n★You get a text message.  \\n★A commercial comes on TV.  \\n★A song ends.  \\n★The sun sets.  \\n \\nThese events can also act as triggers for your new habit. For example, if you wanted \\nto “\\u200bWhen a commercial comes on TV, I do five pushups.\\u200b”  \\n \\nWith these two lists, you’ll have a wide range of things that you already do and \\nalready respond to each day. Those are the perfect reminders for new habits.  \\n \\nFor example, let’s say you want to feel happier. Expressing gratitude is one proven \\nway to boost happiness. Using the list above, you could pick the reminder “sit \\ndown for dinner” and use it as a cue to say one thing that you’re grateful for today.  \\n \\n“\\u200bWhen I sit down for dinner, I say one thing that I’m grateful for today.\\u200b”  \\n \\nThat’s the type of small behavior that could blossom into a more grateful outlook \\non life in general.  \\n \\n \\nStep 2: Make Your Habits Incredibly Easy to Start  \\n \\nMake it so easy you can’t say no.  \\n—Leo Babauta \\n \\nAs I mentioned in the beginning of this guide, it’s incredibly easy to get caught up \\nin the desire to make massive changes in your life. We watch incredible weight loss \\n \\nJamesClear.com Page 12', metadata={'source': './james-clear-transform-your-habits-v3.pdf', 'page': 12}),\n",
       "  Document(page_content=\"Why Is It So Hard to Stick to Good \\nHabits? \\n \\n \\nIt seems to be remarkably easy to fall into unhealthy routines.  \\n \\n★Eating junk food.  \\n★Watching TV instead of going to the gym.  \\n★Showing up to a job you hate everyday.  \\n★Biting your nails. \\n★Smoking.  \\n \\nThere’s no shortage of unhealthy and unproductive behaviors. And we all struggle \\nwith them from time to time. \\n \\nBut why? You want to live a healthy, fulfilling, and remarkable life. And every now \\nand then you probably get really motivated and inspired to make a change. So how \\ncome it is more likely that this time next year you'll be doing the same thing rather \\nthan something better? Why is it so hard to stick to good habits?  \\n \\nI believe that it is because we usually try to make changes in the wrong way. And in \\nthis guide, I'm going to share a blend of science and real-world experiences that \\nshare a better strategy for making long-term changes in your life.  \\n \\nLet's get started. \\n  \\n \\nJamesClear.com Page 4\", metadata={'source': './james-clear-transform-your-habits-v3.pdf', 'page': 4}),\n",
       "  Document(page_content=\"Identity-Based Habits: How to \\nActually Stick to Your Goals For the \\nLong-Term  \\n \\n \\nWe've covered the science of habit formation. But in the real world, there is often a \\ndifference between theory and practice.  \\n \\nWhenever I write, I do my best to not merely share ideas backed by science, but \\nalso to highlight real-world lessons that make it easier for you to put those ideas \\ninto practice.  \\n \\nThis is especially important when it comes to building better habits. We all want to \\nbecome better people — stronger and healthier, more creative and more skilled, a \\n \\nJamesClear.com Page 15\", metadata={'source': './james-clear-transform-your-habits-v3.pdf', 'page': 15})]}"
      ]
     },
     "execution_count": 27,
     "metadata": {},
     "output_type": "execute_result"
    }
   ],
   "source": [
    "question = \"what are some example of sticking to a habit?\"\n",
    "response = model({\"query\":question})\n",
    "response"
   ]
  },
  {
   "cell_type": "code",
   "execution_count": 28,
   "metadata": {},
   "outputs": [
    {
     "data": {
      "text/plain": [
       "{'query': 'Is it necessary to build a good habit?',\n",
       " 'result': ' Yes, it is necessary to build good habits in order to achieve success, health, strength, joy, fulfillment, meaning, and vitality. Good habits are formed by focusing on lifestyle behaviors and making small changes that the brain can learn and repeat. A keystone habit can help you achieve success and can be found by identifying the one thing that makes your day go smoother.',\n",
       " 'source_documents': [Document(page_content=\"The Best Way to Start Your New Habit \\n \\n  \\nIf you’re serious about doing things better than you are now – in other words, if \\nyou're serious about sticking to good habits – then you have to start small.  \\n \\nImagine the typical habits, good or bad: Brushing your teeth. Putting your seatbelt \\non. Biting your nails.  \\n \\nThese actions are small enough that you don’t even think about them. You simply \\ndo them automatically. They are tiny actions that become consistent patterns.  \\n \\nWouldn’t it make sense that if we wanted to form new habits, the best way to start \\nwould be to make tiny changes that our brain could quickly learn and automatically \\nrepeat?  \\n \\nWhat if you started thinking of your life goals, not as big, audacious things that you \\ncan only achieve when the time is right or when you have better resources or when \\nyou finally catch your big break … but instead as tiny, daily behaviors that are \\nrepeated until success becomes inevitable?  \\n \\nWhat if losing 50 pounds wasn’t dependent on a researcher discovering the perfect \\ndiet or you finding a superhuman dose of willpower, but hinged on a series of tiny \\nhabits that you could always control? Habits like walking for 20 minutes per day, \\ndrinking 8 glasses of water per day, eating two meals instead of three. \\n \\nToo often we get obsessed with making life–changing transformations. I believe \\nyou would make more progress by focusing on lifestyle behaviors. \\n\\xa0\\n \\nJamesClear.com Page 22\", metadata={'source': './james-clear-transform-your-habits-v3.pdf', 'page': 22}),\n",
       "  Document(page_content=\"It's natural to think that we need the result, the transformation, the overnight \\nsuccess. But that's not what you need. You need better habits. \\n \\nIt’s so easy to overestimate the importance of one defining moment and \\nunderestimate the value of making better decisions on a daily basis.  \\n \\nAlmost every habit that you have — good or bad — is the result of many small \\ndecisions over time. And if this is true, if the problems you’re facing now are the \\nresult of thousands of small decisions made over the course of years, then \\nwouldn’t it make sense that path to success, health, strength, joy, fulfillment, \\nmeaning, and vitality would also be through thousands of daily decisions?  \\n \\nAnd yet, how easily we forget this when we want to make a change.  \\n \\nWhen you become obsessed with achieving a result quickly, the only thing you \\nthink about is how to get to your goal, and you forget to realize that our process for \\nachieving goals is just as important as whether or not you achieve them at all. The \\ndesire to achieve results quickly fools you into thinking that the result is the prize.  \\n \\nBut here's the truth…  \\n \\nBecoming the type of person you want to become — someone who lives by a \\nstronger standard, someone who believes in themselves, someone who can be \\ncounted on by the people that matter to them — is about the daily process you \\nfollow and not the ultimate product you achieve.  \\n \\nWhy is this true? Because your life today is essentially the sum of your habits.  \\n \\nHow in shape or out of shape you are? A result of your habits.  \\n \\nHow happy or unhappy you are? A result of your habits.  \\n \\nHow successful or unsuccessful you are? A result of your habits. \\n \\nJamesClear.com Page 6\", metadata={'source': './james-clear-transform-your-habits-v3.pdf', 'page': 6}),\n",
       "  Document(page_content=\"Here’s how…  \\n \\nStep 1: Use a Current Habit as the Reminder for \\nYour New One \\n \\nIf you talk to your friends about starting a new habit, they might tell you that you \\nneed to exercise self–control or that you need to find a new dose of willpower.  \\n \\nI disagree.  \\n \\nGetting motivated and trying to remember to do a new behavior is the exact wrong \\nway to go about it. If you think about this, it makes sense. Sometimes you feel \\nmotivated and sometimes you don't, right? So why would you want to rely on \\nmotivation (something that changes) to create a new habit (something that you \\nwant to be consistent)?  \\n \\nThis is why the reminder – the trigger for your new behavior – is such a critical part \\nof forming new habits. A good reminder makes it easier for you to start your habit \\nby encoding your new behavior in something that you already do, rather than \\nrelying on getting motivated.  \\n \\nFor example, I created a new habit of flossing each day by always doing it after \\nbrushing my teeth. The act of brushing my teeth was something that I already did \\nand it acted as the trigger or cue to do my new behavior.  \\n \\nTo make things even easier and prevent myself from having to remember to floss, I \\nbought a bowl, placed it next to my toothbrush, and put a handful of pre–made \\nflossers in it. Now I see the floss every time I reach for my toothbrush. \\n \\n \\nJamesClear.com Page 10\", metadata={'source': './james-clear-transform-your-habits-v3.pdf', 'page': 10}),\n",
       "  Document(page_content=\"If you have multiple things that you would like to improve, imagine how \\nmuch easier it would be for you to do if you discovered one or two keystone \\nhabits that naturally put you on the path to success.  \\n \\nThe good news? You probably already know what these behaviors are for you.  \\n \\nWhat is the one thing that – when you do it – your day seems to go more \\nsmoothly?  \\n \\nFor me, it is working out. Meanwhile, other people swear by a morning run. \\nAnd you'll find dozens of CEOs who claim their daily meditation habit is the \\nkey to their success. \\n \\nNo matter what your keystone habit is, it is worth your time to focus on it and \\ndo more of it. The right habit, when done consistently, can impact your life in \\nmany ways. \\n \\n  \\n \\nJamesClear.com Page 32\", metadata={'source': './james-clear-transform-your-habits-v3.pdf', 'page': 32})]}"
      ]
     },
     "execution_count": 28,
     "metadata": {},
     "output_type": "execute_result"
    }
   ],
   "source": [
    "question = \"Is it necessary to build a good habit?\"\n",
    "response = model({\"query\":question})\n",
    "response"
   ]
  },
  {
   "cell_type": "code",
   "execution_count": 29,
   "metadata": {},
   "outputs": [
    {
     "data": {
      "text/plain": [
       "{'query': 'What kind of a person author is?',\n",
       " 'result': ' The author is a practitioner of their ideas and not just someone who shares their opinion. They are a person who tries to be consistent with their work and output. They understand that it is more important to prove their identity to themselves than to get amazing results.',\n",
       " 'source_documents': [Document(page_content='Identity: Become the type of person who writes 1,000 words every day.  \\n \\nSmall win: Write one paragraph each day this week.  \\n \\nExample 3: Want to become strong?  \\n \\nIdentity: Become the type of person who never misses a workout.  \\n \\nSmall win: Do pushups every Monday, Wednesday, and Friday.  \\n \\nExample 4: Want to be a better friend?  \\n \\nIdentity: Become the type of person who always stays in touch.  \\n \\nSmall win: Call one friend every Saturday. If you repeat the same people every 3 \\nmonths, you’ll stay close with 12 old friends throughout the year.  \\n \\nExample 5: Want to be taken seriously at work?  \\n \\nIdentity: become the type of person who is always on time.  \\n \\nSmall win: Schedule meetings with an additional 15–minute gap between them so \\nthat you can go from meeting to meeting and always show up early.  \\n \\n \\nWhat is Your Identity? \\n \\nIn my experience, when you want to become better at something, proving your \\nidentity to yourself is far more important than getting amazing results. This is \\nespecially true at first.  \\n \\nJamesClear.com Page 20', metadata={'source': './james-clear-transform-your-habits-v3.pdf', 'page': 20}),\n",
       "  Document(page_content=\"The Idea in Practice \\n  \\nMost of the time, I try to be a practitioner of my ideas and not just someone who \\nshares their opinion, so allow me to explain this strategy by using two real \\nexamples from my own life.  \\n \\n \\nExample 1: Writing  \\n \\nI publish a new article every Monday and Thursday. Since my first article on \\nNovember 12, 2012, I’ve been delivering two articles per week, every week. \\nSometimes the article is shorter than expected, sometimes it’s not as compelling \\nas I had hoped, and sometimes it’s not as useful as it could be … but it gets out to \\nthe world nonetheless.  \\n \\nOf course, I didn't always operate on a Monday-Thursday schedule. In fact, I came \\nup with reasons for actively avoiding a schedule. I told myself, “I do my best \\nwriting when I'm inspired, so I'll just wait until I get the urge to write.”  \\n \\nI assumed that if I wasn't doing my best work, then I shouldn't be doing it at all. \\nThe problem with that strategy is that my output was erratic at best.  \\n \\nIt took me awhile to realize it, but it's not about always doing your best work, it's \\nabout doing the best you can on a consistent basis.  \\n \\nOnce I stopped focusing on results and simply held myself to a consistent \\nschedule, my work and my output improved. In the first 6 months after I started \\nwriting two times per week, I wrote more in quantity and better in quality than in \\nthe previous two years.  \\n \\n \\nJamesClear.com Page 27\", metadata={'source': './james-clear-transform-your-habits-v3.pdf', 'page': 27}),\n",
       "  Document(page_content='If you want to be the type of person who accomplishes things on a consistent basis, \\nthen give yourself a schedule to follow, not a deadline to race towards. \\n \\n  \\n \\nJamesClear.com Page 29', metadata={'source': './james-clear-transform-your-habits-v3.pdf', 'page': 29}),\n",
       "  Document(page_content=\"The Recipe for Sustained Success  \\n \\nChanging your beliefs isn’t nearly as hard as you might think. There are two steps.  \\n \\n1. Decide the type of person you want to be.  \\n2. Prove it to yourself with small wins.  \\n \\nNote:\\u200b I cannot emphasize enough how important it is to start with incredibly small \\nsteps. The goal is not to achieve results at first, the goal is to become the type of \\nperson who can achieve those things.  \\n \\nFor example, a person who works out consistently is the type of person who can \\nbecome strong. Develop the identity of someone who works out first, and then \\nmove on to performance and appearance later. Start small and trust that the \\nresults will come as you develop a new identity.  \\n \\nOn the next page, you'll find five examples of how you can use identity-based \\nhabits in real life.  \\n \\nExample 1: Want to lose weight?  \\n \\nIdentity: Become the type of person who moves more every day.  \\n \\nSmall win: Buy a pedometer. Walk 50 steps when you get home from work. \\nTomorrow, walk 100 steps. The day after that, 150 steps. If you do this 5 days per \\nweek and add 50 steps each day, then by the end of the year, you’ll be walking over \\n10,000 steps per day.  \\n \\nExample 2: Want to become a better writer?  \\n \\nJamesClear.com Page 19\", metadata={'source': './james-clear-transform-your-habits-v3.pdf', 'page': 19})]}"
      ]
     },
     "execution_count": 29,
     "metadata": {},
     "output_type": "execute_result"
    }
   ],
   "source": [
    "question = \"What kind of a person author is?\"\n",
    "response = model({\"query\":question})\n",
    "response"
   ]
  },
  {
   "cell_type": "code",
   "execution_count": 30,
   "metadata": {},
   "outputs": [
    {
     "data": {
      "text/plain": [
       "{'query': 'how to be best in the world?',\n",
       " 'result': \" Unfortunately, I don't know the answer to that question.\",\n",
       " 'source_documents': [Document(page_content=\"The Recipe for Sustained Success  \\n \\nChanging your beliefs isn’t nearly as hard as you might think. There are two steps.  \\n \\n1. Decide the type of person you want to be.  \\n2. Prove it to yourself with small wins.  \\n \\nNote:\\u200b I cannot emphasize enough how important it is to start with incredibly small \\nsteps. The goal is not to achieve results at first, the goal is to become the type of \\nperson who can achieve those things.  \\n \\nFor example, a person who works out consistently is the type of person who can \\nbecome strong. Develop the identity of someone who works out first, and then \\nmove on to performance and appearance later. Start small and trust that the \\nresults will come as you develop a new identity.  \\n \\nOn the next page, you'll find five examples of how you can use identity-based \\nhabits in real life.  \\n \\nExample 1: Want to lose weight?  \\n \\nIdentity: Become the type of person who moves more every day.  \\n \\nSmall win: Buy a pedometer. Walk 50 steps when you get home from work. \\nTomorrow, walk 100 steps. The day after that, 150 steps. If you do this 5 days per \\nweek and add 50 steps each day, then by the end of the year, you’ll be walking over \\n10,000 steps per day.  \\n \\nExample 2: Want to become a better writer?  \\n \\nJamesClear.com Page 19\", metadata={'source': './james-clear-transform-your-habits-v3.pdf', 'page': 19}),\n",
       "  Document(page_content='Identity: Become the type of person who writes 1,000 words every day.  \\n \\nSmall win: Write one paragraph each day this week.  \\n \\nExample 3: Want to become strong?  \\n \\nIdentity: Become the type of person who never misses a workout.  \\n \\nSmall win: Do pushups every Monday, Wednesday, and Friday.  \\n \\nExample 4: Want to be a better friend?  \\n \\nIdentity: Become the type of person who always stays in touch.  \\n \\nSmall win: Call one friend every Saturday. If you repeat the same people every 3 \\nmonths, you’ll stay close with 12 old friends throughout the year.  \\n \\nExample 5: Want to be taken seriously at work?  \\n \\nIdentity: become the type of person who is always on time.  \\n \\nSmall win: Schedule meetings with an additional 15–minute gap between them so \\nthat you can go from meeting to meeting and always show up early.  \\n \\n \\nWhat is Your Identity? \\n \\nIn my experience, when you want to become better at something, proving your \\nidentity to yourself is far more important than getting amazing results. This is \\nespecially true at first.  \\n \\nJamesClear.com Page 20', metadata={'source': './james-clear-transform-your-habits-v3.pdf', 'page': 20}),\n",
       "  Document(page_content='transformations and think that we need to lose 30 pounds in the next 4 weeks. We \\nsee elite athletes on TV and wish that we could run faster and jump higher \\ntomorrow. We want to earn more, do more, and be more … right now.  \\n \\nI’ve felt those things too, so I get it. And in general, I applaud the enthusiasm. I’m \\nglad that you want great things for your life and I want to do what I can to help you \\nachieve them. But it’s important to remember that lasting change is a product of \\ndaily habits, not once-in-a-lifetime transformations.  \\n \\nIf you want to start a new habit and begin living healthier and happier, then I have \\none suggestion that I cannot emphasis enough: start small. In the words of Leo \\nBabauta, “make it so easy that you can’t say no.”  \\n \\nHow small? Stanford professor BJ Fogg suggests that people who want to start \\nflossing begin by flossing only one tooth. Just one.  \\n \\nIn the beginning, performance doesn’t matter. What does matter is becoming the \\ntype of person who always sticks to your new habit – no matter how small or \\ninsignificant it seems. You can build up to the level of performance that you want \\nonce the behavior becomes consistent.  \\n \\nYour homework:\\u200b Pick a new habit you want to start. Now ask yourself, “How can I \\nmake this new behavior so easy to do that I can’t say no?”  \\n \\n \\nStep 3: Always Reward Yourself  \\n \\nIt’s important to celebrate. (I think that’s just as true in life as it is with habits.)  \\n \\nWhen it comes to sticking to better habits, there is an important reason to always \\nreward yourself: we want to continue doing things that make us feel good.  \\n \\n \\nJamesClear.com Page 13', metadata={'source': './james-clear-transform-your-habits-v3.pdf', 'page': 13}),\n",
       "  Document(page_content=\"1.Knowledge is useless without action. You know what to do, now it's time to \\ndo it. If you have a goal that is important to you, then use these ideas to \\nmake it a reality.  \\n \\n2.Our community is here to support you. Each week, I write articles for a small \\ncommunity of people who are committed to getting better, living healthier, \\nand making the world a better place. For my part, I do my best to help them \\nachieve their goals. And I'd like to do the same for you.  \\n \\nIf you have questions, you can always contact me at http://jamesclear.com  \\n \\nI don't have it all figured out, but I'm doing my best to walk the slow march toward \\ngreatness with you. If there's anything I can do, please know that I'm here to help \\nhowever I can.  \\n \\n \\nNever settle,  \\nJames Clear \\n \\n \\n \\n \\n \\n \\n \\n \\n \\n \\n \\n \\n \\n \\n \\nJamesClear.com Page 48\", metadata={'source': './james-clear-transform-your-habits-v3.pdf', 'page': 48})]}"
      ]
     },
     "execution_count": 30,
     "metadata": {},
     "output_type": "execute_result"
    }
   ],
   "source": [
    "question = \"how to be best in the world?\"\n",
    "response = model({\"query\":question})\n",
    "response"
   ]
  },
  {
   "cell_type": "code",
   "execution_count": null,
   "metadata": {},
   "outputs": [],
   "source": []
  }
 ],
 "metadata": {
  "kernelspec": {
   "display_name": "venv",
   "language": "python",
   "name": "python3"
  },
  "language_info": {
   "codemirror_mode": {
    "name": "ipython",
    "version": 3
   },
   "file_extension": ".py",
   "mimetype": "text/x-python",
   "name": "python",
   "nbconvert_exporter": "python",
   "pygments_lexer": "ipython3",
   "version": "3.9.6"
  },
  "orig_nbformat": 4
 },
 "nbformat": 4,
 "nbformat_minor": 2
}
