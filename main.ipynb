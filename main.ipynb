{
 "cells": [
  {
   "cell_type": "code",
   "execution_count": 31,
   "metadata": {},
   "outputs": [],
   "source": [
    "from langchain.document_loaders import PyPDFLoader\n",
    "# pip install pypdf"
   ]
  },
  {
   "cell_type": "code",
   "execution_count": 32,
   "metadata": {},
   "outputs": [],
   "source": [
    "loader = PyPDFLoader(\"./The Dip A Little Book That Teaches You When to Quit (and When to Stick).pdf\")\n",
    "pages = loader.load_and_split()"
   ]
  },
  {
   "cell_type": "code",
   "execution_count": 33,
   "metadata": {},
   "outputs": [
    {
     "data": {
      "text/plain": [
       "72"
      ]
     },
     "execution_count": 33,
     "metadata": {},
     "output_type": "execute_result"
    }
   ],
   "source": [
    "len(pages)"
   ]
  },
  {
   "cell_type": "code",
   "execution_count": 1,
   "metadata": {},
   "outputs": [],
   "source": [
    "# Get API keys from OpenAI.\n",
    "\n",
    "from keys import OPENAI_API_KEY\n"
   ]
  },
  {
   "cell_type": "code",
   "execution_count": 35,
   "metadata": {},
   "outputs": [],
   "source": [
    "from langchain.vectorstores import Chroma\n",
    "from langchain.embeddings.openai import OpenAIEmbeddings"
   ]
  },
  {
   "cell_type": "code",
   "execution_count": 36,
   "metadata": {},
   "outputs": [
    {
     "name": "stdout",
     "output_type": "stream",
     "text": [
      "Running Chroma using direct local API.\n",
      "No existing DB found in db, skipping load\n",
      "No existing DB found in db, skipping load\n"
     ]
    }
   ],
   "source": [
    "# Embed and store the texts\n",
    "# Supplying a persist_directory will store the embeddings on disk\n",
    "persist_directory = 'db'\n",
    "\n",
    "# pip install openai\n",
    "embeddings = OpenAIEmbeddings(openai_api_key=OPENAI_API_KEY)\n",
    "\n",
    "# vectordb = Chroma.from_documents(documents=pages, embedding=embeddings, persist_directory=persist_directory)"
   ]
  },
  {
   "cell_type": "code",
   "execution_count": 37,
   "metadata": {},
   "outputs": [
    {
     "name": "stdout",
     "output_type": "stream",
     "text": [
      "Persisting DB to disk, putting it in the save folder db\n",
      "PersistentDuckDB del, about to run persist\n",
      "Persisting DB to disk, putting it in the save folder db\n"
     ]
    }
   ],
   "source": [
    "# vectordb.persist()\n",
    "# vectordb = None"
   ]
  },
  {
   "cell_type": "code",
   "execution_count": 38,
   "metadata": {},
   "outputs": [
    {
     "name": "stdout",
     "output_type": "stream",
     "text": [
      "Running Chroma using direct local API.\n",
      "loaded in 72 embeddings\n",
      "loaded in 1 collections\n",
      "collection with name langchain already exists, returning existing collection\n"
     ]
    }
   ],
   "source": [
    "# Now we can load the persisted database from disk, and use it as normal. \n",
    "vectordb = Chroma(persist_directory=persist_directory, embedding_function=embeddings)"
   ]
  },
  {
   "cell_type": "code",
   "execution_count": 39,
   "metadata": {},
   "outputs": [],
   "source": [
    "from langchain import VectorDBQA, OpenAI"
   ]
  },
  {
   "cell_type": "code",
   "execution_count": 44,
   "metadata": {},
   "outputs": [
    {
     "name": "stderr",
     "output_type": "stream",
     "text": [
      "/Users/abidsaudagar/Personal/ChatGPT/chatbot_langchain/venv/lib/python3.9/site-packages/langchain/chains/retrieval_qa/base.py:152: UserWarning: `VectorDBQA` is deprecated - please use `from langchain.chains import RetrievalQA`\n",
      "  warnings.warn(\n"
     ]
    }
   ],
   "source": [
    "model = VectorDBQA.from_chain_type(llm=OpenAI(openai_api_key=OPENAI_API_KEY), chain_type=\"stuff\", vectorstore=vectordb, return_source_documents=True)"
   ]
  },
  {
   "cell_type": "code",
   "execution_count": 41,
   "metadata": {},
   "outputs": [
    {
     "data": {
      "text/plain": [
       "' One should decide when to quit before the discomfort sets in. Outlining a quitting strategy ahead of time can help make sure that it is a strategic decision and enables you to make the right choices.'"
      ]
     },
     "execution_count": 41,
     "metadata": {},
     "output_type": "execute_result"
    }
   ],
   "source": [
    "question = \"when should on quit any task?\"\n",
    "model.run(question)"
   ]
  },
  {
   "cell_type": "markdown",
   "metadata": {},
   "source": []
  },
  {
   "cell_type": "code",
   "execution_count": 42,
   "metadata": {},
   "outputs": [
    {
     "data": {
      "text/plain": [
       "' The author of the book is Seth Godin.'"
      ]
     },
     "execution_count": 42,
     "metadata": {},
     "output_type": "execute_result"
    }
   ],
   "source": [
    "question = \"who is the author of the book?\"\n",
    "model.run(question)"
   ]
  },
  {
   "cell_type": "code",
   "execution_count": 43,
   "metadata": {},
   "outputs": [
    {
     "data": {
      "text/plain": [
       "' Vanilla is the most popular flavor of ice cream according to the International Ice Cream Association. It is the first flavor listed in the top ten flavors of ice cream.'"
      ]
     },
     "execution_count": 43,
     "metadata": {},
     "output_type": "execute_result"
    }
   ],
   "source": [
    "question = \"why vanilla is best selling ice cream\"\n",
    "model.run(question)"
   ]
  },
  {
   "cell_type": "code",
   "execution_count": 45,
   "metadata": {},
   "outputs": [],
   "source": [
    "question = \"who is the author of the book?\"\n",
    "response = model({\"query\":question})\n",
    "response"
   ]
  },
  {
   "cell_type": "code",
   "execution_count": 55,
   "metadata": {},
   "outputs": [
    {
     "data": {
      "text/plain": [
       "{'query': 'things to consider before quitting',\n",
       " 'result': ' Three questions to ask before quitting are: 1) Am I panicking? 2) Who am I trying to influence? 3) Is the pain of the dip worth the benefit of the light at the end of the tunnel? Deciding in advance when to quit is also important, and one should consider if pride is the only thing keeping them from quitting, if there is no dip to get through, and if there are sunk costs that should be ignored.',\n",
       " 'source_documents': [Document(page_content='Quitting\\tBefore\\tYou\\tStart\\nHere’s\\tan\\tassignment\\tfor\\tyou:\\tWrite\\tit\\tdown.\\tWrite\\tdown\\tunder\\twhat\\ncircumstances\\tyou’re\\twilling\\tto\\tquit.\\tAnd\\twhen.\\tAnd\\tthen\\tstick\\twith\\tit.\\nDeciding\\tin\\tAdvance\\tWhen\\tto\\tQuit\\nHere’s\\ta\\tquote\\tfrom\\tultramarathoner\\tDick\\tCollins:\\nDecide\\tbefore\\tthe\\trace\\tthe\\tconditions\\tthat\\twill\\tcause\\tyou\\tto\\tstop\\tand\\ndrop\\tout.\\tYou\\tdon’t\\twant\\tto\\tbe\\tout\\tthere\\tsaying,\\t“Well\\tgee,\\tmy\\tleg\\thurts,\\nI’m\\ta\\tlittle\\tdehydrated,\\tI’m\\tsleepy,\\tI’m\\ttired,\\tand\\tit’s\\tcold\\tand\\twindy.”\\nAnd\\ttalk\\tyourself\\tinto\\tquitting.\\tIf\\tyou\\tare\\tmaking\\ta\\tdecision\\tbased\\ton\\nhow\\tyou\\tfeel\\tat\\tthat\\tmoment,\\tyou\\twill\\tprobably\\tmake\\tthe\\twrong\\ndecision.\\nSo,\\tthere’s\\ttool\\tnumber\\tone.\\tIf\\tquitting\\tis\\tgoing\\tto\\tbe\\ta\\tstrategic\\tdecision\\tthat\\nenables\\tyou\\tto\\tmake\\tsmart\\tchoices\\tin\\tthe\\tmarketplace,\\tthen\\tyou\\tshould\\toutline\\nyour\\tquitting\\tstrategy\\t\\nbefore\\n\\tthe\\tdiscomfort\\tsets\\tin.\\nJust\\tas\\ta\\tsmart\\tventure\\tcapitalist\\tpressures\\tthe\\tboard\\tof\\tdirectors\\tto\\thave\\ta\\nplan\\tin\\tcase\\tthey\\trun\\tout\\tof\\tmoney,\\tevery\\tindividual\\tand\\tevery\\torganization\\tthat\\nwants\\tto\\tuse\\tquitting\\tas\\ta\\tcompetitive\\ttool\\tought\\tto\\thave\\ta\\tplan\\tabout\\twhen\\tit’s\\ntime\\tto\\tquit.\\nIf\\tquitting\\tin\\tthe\\tface\\tof\\tthe\\tDip\\tis\\ta\\tbad\\tidea,\\tthen\\tquitting\\twhen\\tyou’re\\nfacing\\ta\\tCul-de-Sac\\tis\\ta\\tgreat\\tidea.\\tThe\\thard\\tpart\\tis\\thaving\\tthe\\tperspective\\tto\\tsee\\nthis\\twhen\\tyou’re\\tin\\tpain,\\tor\\tfrustrated,\\tor\\tstuck.\\tThat’s\\twhy\\tsetting\\tyour\\tlimits\\nbefore\\n\\tyou\\tstart\\tis\\tso\\tpowerful.\\nSoft\\tTires…Pick\\tYour\\tDip\\nConsider\\tthe\\tbicycle\\ttire.\\nThe\\tfirst\\tten\\tpounds\\tof\\tpressure\\tyou\\tput\\tinto\\ta\\tcompletely\\tflat\\ttire\\tdo\\tno\\ngood\\tat\\tall.\\tAnd\\tadding\\tten\\t\\nextra\\n\\tpounds\\tto\\ta\\tfull\\ttire\\twill\\tburst\\tthe\\ttire,\\ndefeating\\tthe\\tentire\\tpurpose\\tof\\tyour\\teffort.\\tNo,\\tit’s\\tjust\\tthe\\tlast\\tten\\tpounds,\\tthe\\nones\\tthat\\tget\\tit\\tto\\tfull\\tthat\\treally\\tpay\\toff.', lookup_str='', metadata={'source': './The Dip A Little Book That Teaches You When to Quit (and When to Stick).pdf', 'page': 62}, lookup_index=0),\n",
       "  Document(page_content='has\\tbecome\\tunattractive\\tand\\tno\\tfun.\\tThe\\tvery\\tsame\\tpride\\tthat\\tkeeps\\ta\\trestaurant\\nopen\\tlong\\tafter\\tit’s\\tclear\\tthat\\tbusiness\\tis\\tjust\\tnot\\tgoing\\tto\\tpick\\tup.\\nWhen\\tyou’re\\tfacing\\ta\\tCul-de-Sac,\\twhat’s\\tyour\\treason\\tfor\\tsticking?\\tAre\\tyou\\ntoo\\tproud\\tto\\tquit?\\nOne\\treason\\tpeople\\tfeel\\treally\\tgood\\tafter\\tthey\\tquit\\ta\\tdead-end\\tproject\\tis\\tthat\\nthey\\tdiscover\\tthat\\thurting\\tone’s\\tpride\\tis\\tnot\\tfatal.\\tYou\\twork\\tup\\tthe\\tcourage\\tto\\nquit,\\tbracing\\tyourself\\tfor\\tthe\\tsound\\tof\\tyour\\tego\\tbeing\\tripped\\tto\\tshreds—and\\tthen\\neverything\\tis\\tokay.\\nIf\\tpride\\tis\\tthe\\tonly\\tthing\\tkeeping\\tyou\\tfrom\\tquitting,\\tif\\tthere’s\\tno\\tDip\\tto\\tget\\nthrough,\\tyou’re\\tlikely\\twasting\\tan\\tenormous\\tamount\\tof\\ttime\\tand\\tmoney\\ndefending\\tsomething\\tthat\\twill\\theal\\tpretty\\tquickly.\\nHarvard\\tMedical\\tSchool\\tIs\\tNot\\ta\\tReason\\tto\\tStick\\t(Ignore\\tSunk\\tCosts!)\\nBest-selling\\tauthor\\tMichael\\tCrichton\\tquit\\tas\\the\\twas\\ton\\this\\tway\\tto\\ta\\tcareer\\tat\\tthe\\ntop\\tof\\this\\tprofession.\\tWhen\\the\\tgave\\tup\\tmedicine,\\tCrichton\\thad\\talready\\ngraduated\\tfrom\\tHarvard\\tMedical\\tSchool\\tand\\tdone\\ta\\tpostdoctoral\\tfellowship\\nstudy\\tat\\tthe\\tSalk\\tInstitute\\tfor\\tBiological\\tStudies,\\tguaranteeing\\thim\\ta\\tlucrative\\ncareer\\tas\\ta\\tdoctor\\tor\\tas\\ta\\tresearcher.\\tHe\\ttraded\\tit\\tfor\\tthe\\tunpredictable\\tlife\\tof\\tan\\nauthor.\\nCrichton\\thad\\tno\\tstomach\\tfor\\tcutting\\tpeople\\topen,\\tand\\the\\tdecided\\the\\tdidn’t\\nrelish\\tthe\\tfuture\\ta\\tmedical\\tcareer\\twould\\tbring\\thim,\\tregardless\\tof\\thow\\tsuccessful\\nhe\\tmight\\tbecome\\tat\\tit.\\tSo\\the\\tquit.\\tCrichton\\tsaw\\tthat\\tjust\\tbecause\\the\\thad\\talready\\ngotten\\tinto\\tHarvard,\\talready\\tearned\\ta\\tfellowship—already\\tmade\\tit\\tthrough\\tthe\\nDip—he\\tdidn’t\\thave\\tto\\tspend\\tthe\\trest\\tof\\this\\tlife\\tdoing\\tsomething\\the\\tdidn’t\\tenjoy\\nin\\torder\\tto\\tpreserve\\this\\tpride.\\nHe\\tstopped\\tcold\\tturkey\\tand\\tstarted\\tover.\\tIf\\the\\tcan\\tquit,\\tcan\\tyou?\\nThree\\tQuestions\\tto\\tAsk\\tBefore\\tQuitting\\nIf\\tyou’re\\tthinking\\tabout\\tquitting\\t(or\\tnot\\tquitting),\\tthen\\tyou’ve\\tsucceeded.\\t(And\\nso\\thave\\tI.)\\tRealizing\\tthat\\tquitting\\tis\\tworth\\tyour\\tfocus\\tand\\tconsideration\\tis\\tthe\\nfirst\\tstep\\tto\\tbecoming\\tthe\\tbest\\tin\\tthe\\tworld.\\tThe\\tnext\\tstep\\tis\\tto\\task\\tthree\\nquestions.', lookup_str='', metadata={'source': './The Dip A Little Book That Teaches You When to Quit (and When to Stick).pdf', 'page': 58}, lookup_index=0),\n",
       "  Document(page_content='quitting.\\tWinners\\tunderstand\\tthat\\ttaking\\tthat\\tpain\\tnow\\tprevents\\ta\\tlot\\tmore\\tpain\\nlater.\\nThe\\tsame\\tapplies\\tto\\tthe\\tstrategic\\tmanagement\\tof\\torganizations.\\tThe\\tdecision\\nto\\tquit\\tor\\tnot\\tis\\ta\\tsimple\\tevaluation:\\tIs\\tthe\\tpain\\tof\\tthe\\tDip\\tworth\\tthe\\tbenefit\\tof\\nthe\\tlight\\tat\\tthe\\tend\\tof\\tthe\\ttunnel?', lookup_str='', metadata={'source': './The Dip A Little Book That Teaches You When to Quit (and When to Stick).pdf', 'page': 52}, lookup_index=0),\n",
       "  Document(page_content='QUESTION\\t1:\\tAM\\tI\\tPANICKING?\\nQuitting\\tis\\tnot\\tthe\\tsame\\tas\\tpanicking.\\tPanic\\tis\\tnever\\tpremeditated.\\tPanic\\tattacks\\nus,\\tit\\tgrabs\\tus,\\tit\\tis\\tin\\tthe\\tmoment.\\nQuitting\\twhen\\tyou’re\\tpanicked\\tis\\tdangerous\\tand\\texpensive.\\tThe\\tbest\\nquitters,\\tas\\twe’ve\\tseen,\\tare\\tthe\\tones\\twho\\t\\ndecide\\tin\\tadvance\\n\\twhen\\tthey’re\\tgoing\\nto\\tquit.\\tYou\\tcan\\talways\\tquit\\tlater—so\\twait\\tuntil\\tyou’re\\tdone\\tpanicking\\tto\\ndecide.\\nWhen\\tthe\\tpressure\\tis\\tgreatest\\tto\\tcompromise,\\tto\\tdrop\\tout,\\tor\\tto\\tsettle,\\tyour\\ndesire\\tto\\tquit\\tshould\\tbe\\tat\\tits\\tlowest.\\tThe\\tdecision\\tto\\tquit\\tis\\toften\\tmade\\tin\\tthe\\nmoment.\\tBut\\tthat’s\\texactly\\tthe\\twrong\\ttime\\tto\\tmake\\tsuch\\ta\\tcritical\\tdecision.\\tThe\\nreason\\tso\\tmany\\tof\\tus\\tquit\\tin\\tthe\\tDip\\tis\\tthat\\twithout\\ta\\tcompass\\tor\\ta\\tplan,\\tthe\\neasiest\\tthing\\tto\\tdo\\tis\\tto\\tgive\\tup.\\tWhile\\tthat\\tmight\\tbe\\tthe\\teasiest\\tpath,\\tit’s\\talso\\tthe\\nleast\\tsuccessful\\tone.\\nQUESTION\\t2:\\tWHO\\tAM\\tI\\tTRYING\\tTO\\tINFLUENCE?\\nAre\\tyou\\ttrying\\tto\\tsucceed\\tin\\ta\\tmarket?\\tGet\\ta\\tjob?\\tTrain\\ta\\tmuscle?\\nIf\\tyou’re\\tconsidering\\tquitting,\\tit’s\\talmost\\tcertainly\\tbecause\\tyou’re\\tnot\\tbeing\\nsuccessful\\tat\\tyour\\tcurrent\\tattempt\\tat\\tinfluence.\\tIf\\tyou\\thave\\tcalled\\ton\\ta\\tprospect\\ta\\ndozen\\ttimes\\twithout\\tsuccess,\\tyou’re\\tfrustrated\\tand\\tconsidering\\tgiving\\tup.\\tIf\\nyou’ve\\tgot\\ta\\tboss\\twho\\tjust\\twon’t\\tlet\\tup,\\tyou’re\\tconsidering\\tquitting\\tyour\\tjob.\\nAnd\\tif\\tyou’re\\ta\\tmarketer\\twith\\ta\\tproduct\\tthat\\tdoesn’t\\tseem\\tto\\tbe\\tcatching\\ton,\\nyou’re\\twondering\\tif\\tyou\\tshould\\tabandon\\tthis\\tproduct\\tand\\ttry\\tanother.\\nIf\\tyou’re\\ttrying\\tto\\tinfluence\\tjust\\tone\\tperson,\\tpersistence\\thas\\tits\\tlimits.\\tIt’s\\neasy\\tto\\tcross\\tthe\\tline\\tbetween\\tdemonstrating\\tyour\\tcommitment\\tand\\tbeing\\ta\\tpest.\\nIf\\tyou\\thaven’t\\tinfluenced\\thim\\tyet,\\tit\\tmay\\tvery\\twell\\tbe\\ttime\\tto\\tquit.\\nOne\\tperson\\tor\\torganization\\twill\\tbehave\\tdifferently\\tthan\\ta\\t\\nmarket\\n\\tof\\tpeople\\nwill.\\tOne\\tperson\\thas\\ta\\tparticular\\tagenda\\tand\\ta\\tsingle\\tworldview.\\tOne\\tperson\\twill\\nmake\\tup\\this\\tmind\\tand\\tif\\tyou’re\\tgoing\\tto\\tsucceed,\\tyou’ll\\thave\\tto\\tchange\\tit.\\tAnd\\nchanging\\tsomeone’s\\tmind\\tis\\tdifficult,\\tif\\tnot\\timpossible.\\nIf\\tyou’re\\ttrying\\tto\\tinfluence\\ta\\tmarket,\\tthough,\\tthe\\trules\\tare\\tdifferent.\\tSure,\\nsome\\tof\\tthe\\tpeople\\tin\\ta\\tmarket\\thave\\tconsidered\\tyou\\t(and\\teven\\trejected\\tyou).\\tBut', lookup_str='', metadata={'source': './The Dip A Little Book That Teaches You When to Quit (and When to Stick).pdf', 'page': 59}, lookup_index=0)]}"
      ]
     },
     "execution_count": 55,
     "metadata": {},
     "output_type": "execute_result"
    }
   ],
   "source": [
    "question = \"things to consider before quitting\"\n",
    "response = model({\"query\":question})\n",
    "response"
   ]
  },
  {
   "cell_type": "code",
   "execution_count": 58,
   "metadata": {},
   "outputs": [
    {
     "data": {
      "text/plain": [
       "{'query': 'What kind of jobs Doug did in his career?',\n",
       " 'result': ' Doug had seven jobs in the fourteen years he has been in the same company. It is not specified what kind of jobs he did.',\n",
       " 'source_documents': [Document(page_content='long\\ttime,\\tmy\\tfriend.”\\nDoug\\twon’t\\tbuy\\tit:\\t“Yes,\\tI’ve\\tbeen\\there\\tfourteen\\tyears,\\tbut\\tI’ve\\thad\\tseven\\njobs.\\tWhen\\tI\\tgot\\there,\\twe\\twere\\ta\\tstartup,\\tbut\\tnow\\twe’re\\ta\\tdivision\\tof\\tCisco.\\tI’ve\\ngot\\tnew\\tchallenges,\\tand\\tthe\\tcommute\\tis\\tgreat…”\\nGo\\ton,\\tinterrupt\\thim.\\nDoug\\tneeds\\tto\\tleave\\tfor\\ta\\tvery\\tsimple\\treason.\\tHe’s\\tbeen\\tbranded.\\tEveryone\\nat\\tthe\\tcompany\\thas\\tan\\texpectation\\tof\\twho\\tDoug\\tis\\tand\\twhat\\the\\tcan\\tdo.\\tWorking\\nyour\\tway\\tup\\tfrom\\tthe\\tmail\\troom\\tsounds\\tsexy;\\tbut,\\tin\\tfact,\\tit’s\\tentirely\\tunlikely.\\nDoug\\thas\\thit\\ta\\tplateau.\\tHe’s\\tnot\\tgoing\\tto\\tbe\\tchallenged,\\tpushed,\\tor\\tpromoted\\tto\\npresident.\\tDoug,\\tregardless\\tof\\twhat\\the\\tcould\\tactually\\taccomplish,\\thas\\tstopped\\nevolving—at\\tleast\\tin\\tthe\\teyes\\tof\\tthe\\tpeople\\twho\\tmatter.\\nIf\\the\\tleaves\\tand\\tjoins\\tanother\\tcompany,\\the\\tgets\\tto\\treinvent\\thimself.\\tNo\\tone\\nin\\tthe\\tnew\\tcompany\\twill\\tremember\\tyoung\\tDoug\\tfrom\\tten\\tyears\\tago.\\tNo,\\tthey’ll\\ntreat\\tDoug\\tas\\tthe\\tnew\\tDoug,\\tthe\\tDoug\\twith\\tan\\tendless\\tupside\\tand\\tlittle\\tpast.\\nOur\\tparents\\tand\\tgrandparents\\tbelieved\\tyou\\tshould\\tstay\\tat\\ta\\tjob\\tfor\\tfive\\nyears,\\tten\\tyears,\\tor\\teven\\tyour\\twhole\\tlife.\\tBut\\tin\\ta\\tworld\\twhere\\tcompanies\\tcome\\nand\\tgo—where\\tthey\\tgrow\\tfrom\\tnothing\\tto\\tthe\\tFortune\\t500\\tand\\tthen\\tdisappear,\\nall\\tin\\ta\\tfew\\tyears—that’s\\tjust\\tnot\\tpossible.\\nHere’s\\tthe\\tdeal,\\tand\\there’s\\twhat\\tI\\ttold\\tDoug:\\tThe\\ttime\\tto\\tlook\\tfor\\ta\\tnew\\tjob\\nis\\twhen\\tyou\\tdon’t\\tneed\\tone.\\tThe\\ttime\\tto\\tswitch\\tjobs\\tis\\tbefore\\tit\\tfeels\\ncomfortable.\\tGo.\\tSwitch.\\tChallenge\\tyourself;\\tget\\tyourself\\ta\\traise\\tand\\ta\\npromotion.\\tYou\\towe\\tit\\tto\\tyour\\tcareer\\tand\\tyour\\tskills.\\nIf\\tyour\\tjob\\tis\\ta\\tCul-de-Sac,\\tyou\\thave\\tto\\tquit\\tor\\taccept\\tthe\\tfact\\tthat\\tyour\\ncareer\\tis\\tover.\\nQuitting\\tIs\\tNot\\tthe\\tSame\\tas\\tFailing\\nStrategic\\tquitting\\tis\\ta\\tconscious\\tdecision\\tyou\\tmake\\tbased\\ton\\tthe\\tchoices\\tthat\\tare\\navailable\\tto\\tyou.\\tIf\\tyou\\trealize\\tyou’re\\tat\\ta\\tdead\\tend\\tcompared\\twith\\twhat\\tyou\\ncould\\tbe\\tinvesting\\tin,\\tquitting\\tis\\tnot\\tonly\\ta\\treasonable\\tchoice,\\tit’s\\ta\\tsmart\\tone.\\nFailing,\\ton\\tthe\\tother\\thand,\\tmeans\\tthat\\tyour\\tdream\\tis\\tover.\\tFailing\\thappens', lookup_str='', metadata={'source': './The Dip A Little Book That Teaches You When to Quit (and When to Stick).pdf', 'page': 56}, lookup_index=0),\n",
       "  Document(page_content='Illustrated\\tby\\tHugh\\tMacleod\\nPORTFOLIO', lookup_str='', metadata={'source': './The Dip A Little Book That Teaches You When to Quit (and When to Stick).pdf', 'page': 3}, lookup_index=0),\n",
       "  Document(page_content='adding\\tany\\tvalue\\tto\\this\\trésumé\\tor\\this\\tday,\\tand\\the\\twas\\tunhappy.\\tDavid\\twent\\tfor\\nbroke.\\tHe\\thad\\ta\\tmeeting\\twith\\this\\tboss\\tand\\this\\tboss’s\\tboss\\t(quite\\ta\\tno-no)\\tand\\ncalmly\\texplained\\this\\tproblem.\\tHe\\tsaid\\tthat\\the\\tfigured\\the’d\\tend\\tup\\tquitting,\\tbut\\nhe\\tliked\\tthe\\tcompany\\tso\\tmuch\\the\\twanted\\tto\\tpropose\\tan\\talternative.\\tSo\\the\\tdid.\\nHe\\twalked\\tout\\twith\\ta\\tmajor\\tpromotion,\\ta\\tbrand-new\\tchallenge,\\tand\\ta\\tnew\\nboss.\\nIf\\the\\thad\\tcovered\\this\\tdownside,\\tworried\\tabout\\tthe\\tshort\\tterm,\\tand\\tnot\\tbeen\\nprepared\\tto\\tquit\\tthat\\tvery\\tday,\\tit\\tnever\\twould\\thave\\thappened.\\tHe\\twasn’t\\tbluffing.\\nHe\\treally\\twas\\tready\\teither\\tto\\tquit\\tor\\tto\\tlean\\tinto\\tthis\\tnew\\tjob,\\tto\\trededicate\\nhimself\\tto\\tthe\\tcompany\\tand\\tmake\\tsomething\\thappen.\\nQuitting\\tin\\tthe\\tDip\\tIs\\tUsually\\na\\tShort-term\\tDecision—and\\ta\\tBad\\tOne\\nWhen\\tpeople\\tquit,\\tthey\\tare\\toften\\tfocused\\ton\\tthe\\tshort-term\\tbenefits.\\tIn\\tother\\nwords,\\t“If\\tit\\thurts;\\tstop!”\\nWhen\\tJoe\\tBiden\\tquit\\tthe\\trace\\tfor\\tpresident\\tin\\t1988,\\tit\\twas\\tover\\tan\\tissue\\tthat\\nseems\\tincredibly\\ttrivial\\ttoday—he\\tdidn’t\\tgive\\tproper\\tattribution\\tto\\ta\\tquote\\tin\\ta\\nspeech.\\tBut\\tat\\tthat\\tmoment,\\tthe\\tpain\\twas\\toverwhelming,\\tand\\tBiden\\tand\\this\\nadvisers\\tcouldn’t\\tsee\\ta\\tway\\tfrom\\there\\tto\\tthere.\\tSo\\tthey\\tquit.\\tEighteen\\tyears\\tlater,\\nBiden\\tis\\ttalking\\tabout\\trunning\\tagain.\\tWhat\\ta\\tshame.\\tIf\\the\\thad\\trealized\\tin\\t1988\\nthat\\the\\twas\\tin\\ta\\tsituation\\twhere\\the\\thad\\tnothing\\tto\\tlose,\\the\\tcould\\thave\\tradically\\nchanged\\tthe\\tconversation\\taround\\tthe\\tcampaign.\\tIf\\the\\thad\\tchanged\\tthe\\tDip,\\tby\\nforcing\\this\\tway\\tthrough\\tit,\\the’d\\thave\\thad\\ta\\tchance\\tto\\tleave\\this\\topponents\\nbehind.\\nWhen\\ta\\tkid\\tdrops\\tout\\tof\\tfootball\\tor\\tkarate,\\tit’s\\tnot\\tbecause\\tshe’s\\tcarefully\\nconsidered\\tthe\\tlong-term\\tconsequences\\tof\\ther\\taction.\\tShe\\tdoes\\tit\\tbecause\\ther\\ncoach\\tkeeps\\tyelling\\tat\\ther,\\tand\\tit’s\\tnot\\tfun.\\tIt’s\\tbetter\\tto\\tstop.\\nShort-term\\tpain\\thas\\tmore\\timpact\\ton\\tmost\\tpeople\\tthan\\tlong-term\\tbenefits\\tdo,\\nwhich\\tis\\twhy\\tit’s\\tso\\timportant\\tfor\\tyou\\tto\\tamplify\\tthe\\tlong-term\\tbenefits\\tof\\tnot\\nquitting.\\tYou\\tneed\\tto\\tremind\\tyourself\\tof\\tlife\\tat\\tthe\\tother\\tend\\tof\\tthe\\tDip\\tbecause\\nit’s\\teasier\\tto\\tovercome\\tthe\\tpain\\tof\\tyet\\tanother\\tunsuccessful\\tcold\\tcall\\tif\\tthe\\treality\\nof\\ta\\tsuccessful\\tsales\\tcareer\\tis\\tmore\\tconcrete.', lookup_str='', metadata={'source': './The Dip A Little Book That Teaches You When to Quit (and When to Stick).pdf', 'page': 50}, lookup_index=0),\n",
       "  Document(page_content='Word\\tor\\tExcel—at\\tleast\\tuntil\\tthe\\tplatform\\tchanges.\\tIntuit\\tmade\\tit\\tthrough\\tthe\\nDip,\\tthough,\\tand\\tnow\\ttheir\\tQuicken\\taccounting\\tsoftware\\tis\\tjust\\tas\\tsecure\\tas\\nWord\\tis\\tas\\ta\\tword\\tprocessor.\\tMake\\tit\\tthrough\\tthe\\tcompetition’s\\tbarriers\\tand\\tyou\\nget\\tto\\tbe\\tking\\tfor\\ta\\twhile.\\n“But\\twait!”\\tyou\\tsay.\\t“Isn’t\\tGoogle\\tgoing\\thard\\tafter\\tMicrosoft\\tby\\tcreating\\nWeb-based\\tversions\\tof\\tspreadsheets\\tand\\tword\\tprocessors?”\\tYes.\\tBut\\teven\\nmighty\\tGoogle\\tknows\\tthat\\tthey\\tcan’t\\tdo\\tthat\\twithout\\tchanging\\tthe\\tplatform\\n(from\\tthe\\tPC\\tto\\tthe\\tWeb).\\tMicrosoft\\thas\\tconstructed\\ta\\tDip\\tso\\tdeep\\tand\\tso\\nexpensive\\tthat\\tit’s\\timpossible\\tto\\tcross.\\tBut\\tnow,\\twith\\ta\\tnew\\tplatform,\\tGoogle\\nhas\\ta\\tmuch\\teasier\\tpath\\tto\\tfollow.\\nApple’s\\tdone\\tthe\\tsame\\tthing\\twith\\tiTunes\\tand\\tthe\\tiPod.\\tFirst,\\tthey\\ttook\\nadvantage\\tof\\ta\\tnew\\tplatform\\tto\\tdestroy\\tthe\\tTower\\tRecords\\tof\\tthe\\tworld.\\tThen,\\ninstead\\tof\\tresting\\ton\\ttheir\\tlead,\\tApple\\tbuilt\\tall\\tsorts\\tof\\tsystems\\tand\\tbenefits\\tthat\\nmake\\tit\\textremely\\tdifficult\\tfor\\tsomeone\\tto\\tpersevere\\tlong\\tenough\\tto\\tcome\\tout\\nahead\\tat\\tthe\\tother\\tend.\\nProfessions\\tdo\\tit\\tas\\twell.\\tLawyers,\\tfor\\texample,\\thave\\tcontinually\\tincreased\\nhow\\tdifficult\\tit\\tis\\tto\\tpass\\tthe\\tbar\\texam,\\tlengthening\\tthe\\tDip\\tand\\tmaking\\tlife\\nbetter\\ton\\tthe\\tother\\tside\\tfor\\teveryone\\twho\\tis\\talready\\ta\\tlawyer.\\nThe\\tBig\\tOpportunity\\nIf\\tyou\\tcan\\tget\\tthrough\\tthe\\tDip,\\tif\\tyou\\tcan\\tkeep\\tgoing\\twhen\\tthe\\tsystem\\tis\\nexpecting\\tyou\\tto\\tstop,\\tyou\\twill\\tachieve\\textraordinary\\tresults.\\tPeople\\twho\\tmake\\nit\\tthrough\\tthe\\tDip\\tare\\tscarce\\tindeed,\\tso\\tthey\\tgenerate\\tmore\\tvalue.\\nWhen\\tyou’re\\tthe\\tbest\\tin\\tthe\\tworld,\\tyou\\tshare\\tthe\\tbenefits\\t(the\\tincome,\\tthe\\nattention,\\tthe\\tprivileges,\\tthe\\trespect)\\twith\\tjust\\ta\\thandful\\tof\\tpeople\\tor\\norganizations\\tor\\tbrands.\\tThat\\tmale\\tmagazine\\tmodel\\twith\\tthe\\tgreat\\tabs\\tgets\\twork\\nprecisely\\tbecause\\tso\\tmany\\tpeople\\thave\\tquit\\tin\\ttheir\\tquest\\tto\\tget\\twhat\\the’s\\tgot.\\nYou\\tknow\\tthis\\talready.\\tYou’re\\tnot\\tstupid,\\tand\\tyou’ve\\tnoticed\\tall\\tyour\\tlife\\nthat\\tthe\\tbig\\tbenefits\\taccrue\\tto\\tthose\\twho\\tdon’t\\tquit.\\tAnd\\tit\\thasn’t\\tmade\\ta\\ndifference\\tso\\tfar,\\tso\\twhy\\tshould\\tyou\\tlisten\\tto\\tme\\tnow?\\nSimple.\\tIt’s\\tabout\\tthe\\tstory\\tyou\\ttell\\tyourself.\\tYou\\tgrew\\tup\\tbelieving\\tthat\\nquitting\\tis\\ta\\tmoral\\tfailing.\\tQuitting\\tfeels\\tlike\\ta\\tgo-down\\tmoment,\\ta\\tmoment', lookup_str='', metadata={'source': './The Dip A Little Book That Teaches You When to Quit (and When to Stick).pdf', 'page': 43}, lookup_index=0)]}"
      ]
     },
     "execution_count": 58,
     "metadata": {},
     "output_type": "execute_result"
    }
   ],
   "source": [
    "question = \"What kind of jobs Doug did in his career?\"\n",
    "response = model({\"query\":question})\n",
    "response"
   ]
  },
  {
   "cell_type": "code",
   "execution_count": 60,
   "metadata": {},
   "outputs": [
    {
     "data": {
      "text/plain": [
       "{'query': 'what does Netflix want?',\n",
       " 'result': ' Netflix wants you to see a lot of movies, so that you become a loyal customer.',\n",
       " 'source_documents': [Document(page_content='empty\\tbike\\tor\\tto\\tafford\\ta\\tmembership.\\nNetflix\\tgives\\tyou\\tan\\tunlimited\\tnumber\\tof\\tDVD\\trentals\\ta\\tmonth,\\tpostage\\npaid,\\tfor\\t$10.\\tHow\\tcan\\tthis\\tbe?\\tIf\\tyou\\twatched\\ta\\tmovie\\tthe\\tday\\tit\\tcame\\tin\\tand\\nsent\\tit\\tright\\tback,\\tyou’d\\tget\\tto\\tsee\\tat\\tleast\\tsix\\tmovies\\tfor\\t$10.\\tOf\\tcourse,\\tthe\\tkey\\nis\\tthat\\tfor\\tevery\\tperson\\twho\\tsees\\tsix,\\tthere\\tare\\tplenty\\tof\\tpeople\\twho\\tlose\\tinterest\\nand\\tsee\\tone\\tmovie,\\tor\\teven\\tno\\tmovies,\\ta\\tmonth.\\tThese\\tpeople\\tsubsidize\\tthe\\ncommitted\\tmembers.\\tSure,\\tNetflix\\twants\\tyou\\tto\\tsee\\ta\\tlot\\tof\\tmovies—that\\tmakes\\nyou\\ta\\tloyal\\tcustomer.\\tBut\\tthe\\teconomics\\tof\\tthe\\tentire\\tbusiness\\twould\\tfall\\tapart\\tif\\nit\\tweren’t\\tfor\\tthe\\tuncommitted\\tusers\\twho\\tjust\\tdabble.\\nFor\\ta\\tlong\\ttime,\\tairlines\\toversold\\ttheir\\tflights\\tbecause\\tthey\\tknew\\tthey\\twould\\nprofit\\tfrom\\tthe\\tno-shows.\\nPoliticians\\tfully\\texpect\\tthat\\tthe\\tlazy\\tand\\till-informed\\twon’t\\tbother\\tto\\tvote.\\nThese\\tcitizens\\tpay\\ttaxes,\\twhich\\tsupport\\tthe\\tpolitical\\tlife\\tof\\tthe\\tfew\\twho\\tdon’t\\nquit\\tthe\\tsystem.\\nAnd,\\tof\\tcourse,\\tthe\\tentire\\tcollege-football\\tmoney\\tmachine\\tis\\tbased\\ton\\ta\\npyramid\\tscheme\\tof\\tplayers\\twho\\taspire\\tto\\tthe\\tNFL\\tbut\\twill\\tnever\\tmake\\tit.\\nWhatever\\tyou\\tdo\\tfor\\ta\\tliving,\\tor\\tfor\\tfun,\\tit’s\\tprobably\\tsomehow\\tbased\\ton\\ta\\nsystem\\tthat’s\\tbased\\ton\\tquitting.\\t\\nQuitting\\tcreates\\tscarcity;\\tscarcity\\tcreates\\tvalue.\\nIn\\t\\nThe\\tWizard\\tof\\tOz\\n,\\tthere’s\\tan\\tindelible\\timage\\tof\\tthe\\tman\\tbehind\\tthe\\ncurtain,\\tlaughing\\tat\\tDorothy\\tand\\ther\\tfriends\\tas\\the\\tgives\\tthem\\tincredibly\\tdifficult,', lookup_str='', metadata={'source': './The Dip A Little Book That Teaches You When to Quit (and When to Stick).pdf', 'page': 39}, lookup_index=0),\n",
       "  Document(page_content='We’re\\tseduced\\tby\\tthe\\ttales\\tof\\tactresses\\tbeing\\tdiscovered\\tat\\tthe\\tlocal\\ndrugstore,\\tor\\ta\\tclassmate\\twho\\tgot\\ta\\tfantastic\\tjob\\tjust\\tby\\tshowing\\tup\\tat\\tthe\\ncollege\\tplacement\\toffice.\\tWe\\tsee\\tan\\tauthor\\thit\\tthe\\tbig\\ttime\\tafter\\tjust\\tone\\nappearance\\ton\\t\\nOprah\\n\\tor\\ta\\trock\\tband\\tgetting\\tsigned\\tafter\\tsubmitting\\ta\\tdemo—it\\nall\\tseems\\teasy\\tand\\texciting.\\nIt’s\\teasy\\tto\\tbe\\tseduced\\tby\\tthe\\tnew\\tmoney\\tand\\tthe\\trush\\tto\\tthe\\tfresh.\\tThe\\nproblem\\tis\\tthat\\tthis\\tleads\\tto\\tboth\\tan\\taddiction\\tand\\ta\\tvery\\tshort\\tattention\\tspan.\\tIf\\nit\\tdoesn’t\\twork\\ttoday,\\tthe\\tthinking\\tgoes,\\twhy\\tshould\\tI\\twait\\taround\\tuntil\\ntomorrow?\\tThe\\tproblem\\tis\\tthat\\tonly\\ta\\ttiny\\tportion\\tof\\tthe\\taudience\\tis\\tlooking\\tfor\\nthe\\tbrand-new\\tthing.\\tMost\\tpeople\\tare\\twaiting\\tfor\\tthe\\ttested,\\tthe\\tauthenticated,\\nand\\tthe\\tproven.\\nVery\\tquietly,\\tthe\\tMicrosofts\\tof\\tthe\\tworld\\thang\\tin,\\tgoing\\tfrom\\tversion\\t1\\tto\\nversion\\t2,\\tknowing\\tthat\\tby\\tversion\\t3,\\tthe\\tworld\\twill\\tbe\\ta\\tdifferent\\t(and\\tbetter)\\nplace\\tfor\\tthem.\\tMicrosoft\\tfailed\\ttwice\\twith\\tWindows,\\tfour\\ttimes\\twith\\tWord,\\nthree\\ttimes\\twith\\tExcel.\\tThe\\tentire\\tcompany\\tis\\tbased\\ton\\tthe\\tidea\\tof\\tslogging\\nthrough\\tthe\\tDip,\\trelentlessly\\tchanging\\ttactics\\tbut\\tnever\\tquitting\\tthe\\tbig\\tidea.\\nWhat\\tBusiness\\tAre\\tYou\\tIn?\\nYes,\\tyou\\tshould\\t(you\\tmust)\\tquit\\ta\\tproduct\\tor\\ta\\tfeature\\tor\\ta\\tdesign—you\\tneed\\tto\\ndo\\tit\\tregularly\\tif\\tyou’re\\tgoing\\tto\\tgrow\\tand\\thave\\tthe\\tresources\\tto\\tinvest\\tin\\tthe\\nright\\tbusinesses.\\tBut\\tno,\\tyou\\tmustn’t\\tquit\\ta\\tmarket\\tor\\ta\\tstrategy\\tor\\ta\\tniche.\\tThe\\nbusinesses\\twe\\tthink\\tof\\tas\\tovernight\\tsuccesses\\tweren’t.\\tWe\\tjust\\tdidn’t\\tnotice\\nthem\\tuntil\\tthey\\twere\\twell\\tbaked.', lookup_str='', metadata={'source': './The Dip A Little Book That Teaches You When to Quit (and When to Stick).pdf', 'page': 48}, lookup_index=0),\n",
       "  Document(page_content='World\\tTrade\\tCenter\\nAccepted\\nSnakes\\ton\\ta\\tPlane\\nStep\\tUp\\nIdlewild\\nBarnyard\\n\\t\\nIt’s\\thard\\tto\\tfeel\\tsorry\\tfor\\tthe\\thorrible\\tmovie\\t\\nBeerfest\\n.\\tAfter\\tall,\\tit\\tcame\\tin\\nfourth.\\tBut\\tlook\\tat\\tthe\\tchart\\tof\\tactual\\trevenue:\\nIf\\tyou’ve\\tread\\tChris\\tAnderson’s\\t\\nThe\\tLong\\tTail\\n,\\tthis\\tisn’t\\tnews\\tto\\tyou.\\tBut\\tI\\ndon’t\\tcare\\tabout\\tthe\\tlong\\ttail\\tright\\tnow—I\\twant\\tto\\tshow\\tyou\\tthe\\tshort\\thead.\\tThe\\nshort,\\tbig,\\tprofitable\\thead.\\tThat’s\\tthe\\tjuicy\\tshare\\tof\\tthe\\tmarket\\tthat\\tbelongs\\tto\\nthe\\tpeople\\tat\\tthe\\ttop\\tof\\tthe\\tlist.\\nThe\\tReason\\tNumber\\tOne\\tMatters\\nPeople\\tdon’t\\thave\\ta\\tlot\\tof\\ttime\\tand\\tdon’t\\twant\\tto\\ttake\\ta\\tlot\\tof\\trisks.\\tIf\\tyou’ve\\nbeen\\tdiagnosed\\twith\\tcancer\\tof\\tthe\\tnavel,\\tyou’re\\tnot\\tgoing\\tto\\tmess\\taround\\tby\\ngoing\\tto\\ta\\tlot\\tof\\tdoctors.\\tYou’re\\tgoing\\tto\\thead\\tstraight\\tfor\\tthe\\t“top\\tguy,”\\tthe', lookup_str='', metadata={'source': './The Dip A Little Book That Teaches You When to Quit (and When to Stick).pdf', 'page': 21}, lookup_index=0),\n",
       "  Document(page_content='If\\tyou\\tcan\\tembrace\\tthat\\tsimple\\trule,\\tyou’ll\\tbe\\ta\\tlot\\tchoosier\\tabout\\twhich\\njourneys\\tyou\\tstart.\\nSuperstar\\tThinking\\nSuperstars\\tget\\twhat\\tthey\\twant\\tbecause\\tthey\\thave\\tunique\\tskills.\\tSuperstars\\ncommand\\tfar\\tmore\\tthan\\ttheir\\tfair\\tshare\\tof\\tincome,\\trespect,\\tand\\topportunity\\nbecause\\tthere\\tare\\tvery\\tfew\\tother\\tchoices\\tfor\\ta\\tcustomer\\tor\\tan\\temployer\\tseeking\\nthe\\textraordinary.\\nA\\tsuperstar\\treal\\testate\\tagent\\tgets\\tfive\\tor\\tten\\ttimes\\tthe\\tnumber\\tof\\tlistings\\tas\\nan\\tordinary\\tone.\\tA\\tsuperstar\\tlawyer\\thas\\tall\\tthe\\twork\\tshe\\tcan\\thandle,\\tregardless\\nof\\ther\\tspecialty.\\tA\\tsuperstar\\tmusician\\tcommands\\ta\\tthousand\\ttimes\\tthe\\tincome\\nper\\tperformance\\tas\\tan\\taverage\\tmusician.\\tA\\tsuperstar\\tis\\tthe\\tbest\\tin\\tthe\\tworld\\tat\\nwhat\\tshe\\tdoes.\\nIf\\tyou\\twant\\tto\\tbe\\ta\\tsuperstar,\\tthen\\tyou\\tneed\\tto\\tfind\\ta\\tfield\\twith\\ta\\tsteep\\tDip\\n—a\\tbarrier\\tbetween\\tthose\\twho\\ttry\\tand\\tthose\\twho\\tsucceed.\\tAnd\\tyou’ve\\tgot\\tto\\tget\\nthrough\\tthat\\tDip\\tto\\tthe\\tother\\tside.\\tThis\\tisn’t\\tfor\\teveryone.\\tIf\\tit\\twere,\\tthere’d\\tbe\\nno\\tsuperstars.\\tIf\\tyou\\tchoose\\tthis\\tpath,\\tit’s\\tbecause\\tyou\\trealize\\tthat\\tthere’s\\ta\\tDip,\\nand\\tyou\\tbelieve\\tyou\\tcan\\tget\\tthrough\\tit.\\tThe\\tDip\\tis\\tactually\\tyour\\tgreatest\\tally\\nbecause\\tit\\tmakes\\tthe\\tproject\\tworthwhile\\t(and\\tkeeps\\tothers\\tfrom\\tcompeting\\twith\\nyou).\\nBut\\twait,\\tthat’s\\tnot\\tenough.\\tNot\\tonly\\tdo\\tyou\\tneed\\tto\\tfind\\ta\\tDip\\tthat\\tyou\\tcan\\nconquer\\tbut\\tyou\\talso\\tneed\\tto\\tquit\\tall\\tthe\\tCul-de-Sacs\\tthat\\tyou’re\\tcurrently\\tidling\\nyour\\tway\\tthrough.\\tYou\\tmust\\tquit\\tthe\\tprojects\\tand\\tinvestments\\tand\\tendeavors\\nthat\\tdon’t\\toffer\\tyou\\tthe\\tsame\\topportunity.\\tIt’s\\tdifficult,\\tbut\\tit’s\\tvitally\\timportant.\\nBeing\\tbetter\\tthan\\t98\\tpercent\\tof\\tthe\\tcompetition\\tused\\tto\\tbe\\tfine.\\tIn\\tthe\\tworld\\nof\\tGoogle,\\tthough,\\tit’s\\tuseless.\\tIt’s\\tuseless\\tbecause\\tall\\tof\\tyour\\tcompetition\\tis\\tjust\\na\\tclick\\taway,\\twhatever\\tit\\tis\\tyou\\tdo.\\tThe\\tonly\\tposition\\tyou\\tcan\\tcount\\ton\\tnow\\tis\\nbest\\tin\\tthe\\tworld.\\nSeven\\tReasons\\tYou\\tMight\\tFail\\tto\\tBecome\\nthe\\tBest\\tin\\tthe\\tWorld\\nYou\\trun\\tout\\tof\\ttime\\t(and\\tquit).', lookup_str='', metadata={'source': './The Dip A Little Book That Teaches You When to Quit (and When to Stick).pdf', 'page': 37}, lookup_index=0)]}"
      ]
     },
     "execution_count": 60,
     "metadata": {},
     "output_type": "execute_result"
    }
   ],
   "source": [
    "question = \"what does Netflix want?\"\n",
    "response = model({\"query\":question})\n",
    "response"
   ]
  },
  {
   "cell_type": "code",
   "execution_count": 61,
   "metadata": {},
   "outputs": [
    {
     "data": {
      "text/plain": [
       "{'query': 'how many dip curves are there? Summarize them?',\n",
       " 'result': ' There are three dip curves: The Dip, The Cul-de-Sac, and The Cliff. The Dip is a period of hard work and dedication that needs to be endured in order to achieve success. The Cul-de-Sac is a situation in which nothing much changes no matter how much effort is put in. The Cliff is a situation in which it is best to quit now if you want to be successful.',\n",
       " 'source_documents': [Document(page_content='THE\\tDIP', lookup_str='', metadata={'source': './The Dip A Little Book That Teaches You When to Quit (and When to Stick).pdf', 'page': 1}, lookup_index=0),\n",
       "  Document(page_content='THE\\tDIP', lookup_str='', metadata={'source': './The Dip A Little Book That Teaches You When to Quit (and When to Stick).pdf', 'page': 7}, lookup_index=0),\n",
       "  Document(page_content='chemistry,\\twell,\\tthen,\\tyou\\tcan’t\\tgo\\tto\\tmed\\tschool.\\nAt\\tthe\\tbeginning,\\twhen\\tyou\\tannounce\\tthat\\tyou’re\\tpremed,\\tyou\\tget\\tall\\tsorts\\nof\\tpositive\\tfeedback\\tand\\tsupport.\\tYour\\tgrandmother\\tcan’t\\tbelieve\\ther\\tgood\\nfortune!\\tBut\\tsoon,\\tthe\\tincredible\\tgrind\\tof\\torganic\\tchemistry\\tkicks\\tin,\\tand\\tyou\\nrealize\\tyou’re\\tdoomed.\\nAt\\ttrade\\tshows,\\tyou\\tsee\\tdozens\\tof\\tcompanies\\ttrying\\tto\\tbreak\\tinto\\tan\\nindustry.\\tThey’ve\\tinvested\\ttime\\tand\\tmoney\\tto\\tbuild\\ta\\tproduct,\\tto\\tcreate\\ta\\nmarketing\\torganization\\tand\\trent\\tbooth\\tspace—all\\tin\\tan\\tattempt\\tto\\tbreak\\tinto\\ta\\nlucrative\\tmarket.\\tA\\tyear\\tlater,\\tmost\\tof\\tthem\\tdon’t\\treturn.\\tThey’re\\tgone,\\tunable\\tto\\nget\\tthrough\\tthe\\tDip.\\nThe\\tsame\\tthing\\thappens\\tto\\tpeople\\twho\\tdream\\tof\\tthe\\tuntold\\triches\\tand\\tpower\\nthat\\taccrue\\tto\\tthe\\tCEO\\tof\\ta\\tFortune\\t500\\tcompany.\\tPrivate\\tjets,\\tfancy\\tcountry\\nclubs,\\tunchecked\\tdecision-making\\tpower.\\tWho\\twouldn’t\\twant\\tto\\tlive\\tlike\\nmodern-day\\troyalty?\\tOf\\tcourse,\\tif\\tyou\\tlook\\tat\\tthe\\trésumé\\tof\\ta\\ttypical\\tCEO,\\nyou’ll\\tsee\\tthat\\the\\tendured\\ta\\ttwenty-five-year\\tDip\\tbefore\\tlanding\\tthe\\tjob.\\tFor\\ta\\nquarter\\tof\\ta\\tcentury,\\the\\tneeded\\tto\\tsuck\\tit\\tup,\\tkeep\\this\\thead\\tdown,\\tand\\tdo\\twhat\\the\\nwas\\ttold.\\tHe\\tneeded\\tto\\thit\\this\\tnumbers,\\twork\\tlonger\\thours\\tthan\\teveryone\\telse,\\nand\\tkiss\\tup\\tto\\this\\tboss\\tof\\tthe\\tmoment.\\tDay\\tin\\tand\\tday\\tout,\\tyear\\tafter\\tyear.\\nIt’s\\teasy\\tto\\tbe\\ta\\tCEO.\\tWhat’s\\thard\\tis\\tgetting\\tthere.\\tThere’s\\ta\\thuge\\tDip\\talong\\nthe\\tway.\\tIf\\tit\\twas\\teasy,\\tthere’d\\tbe\\ttoo\\tmany\\tpeople\\tvying\\tfor\\tthe\\tjob\\tand\\tthe\\nCEOs\\tcouldn’t\\tget\\tpaid\\tas\\tmuch,\\tcould\\tthey?\\tScarcity,\\tas\\twe’ve\\tseen,\\tis\\tthe\\nsecret\\tto\\tvalue.\\tIf\\tthere\\twasn’t\\ta\\tDip,\\tthere’d\\tbe\\tno\\tscarcity.\\nIMPORTANT\\tNOTE\\n:\\tSuccessful\\tpeople\\tdon’t\\tjust\\tride\\tout\\tthe\\tDip.\\tThey\\ndon’t\\tjust\\tbuckle\\tdown\\tand\\tsurvive\\tit.\\tNo,\\tthey\\tlean\\tinto\\tthe\\tDip.\\tThey\\tpush\\nharder,\\tchanging\\tthe\\trules\\tas\\tthey\\tgo.\\tJust\\tbecause\\tyou\\tknow\\tyou’re\\tin\\tthe\\tDip\\ndoesn’t\\tmean\\tyou\\thave\\tto\\tlive\\thappily\\twith\\tit.\\tDips\\tdon’t\\tlast\\tquite\\tas\\tlong\\twhen\\nyou\\twhittle\\tat\\tthem.\\nCURVE\\t2:\\tTHE\\tCUL-DE-SAC\\nThe\\tCul-de-Sac\\t(French\\tfor\\t“dead\\tend”)\\tis\\tso\\tsimple\\tit\\tdoesn’t\\teven\\tneed\\ta\\nchart.\\tIt’s\\ta\\tsituation\\twhere\\tyou\\twork\\tand\\tyou\\twork\\tand\\tyou\\twork\\tand\\tnothing\\nmuch\\tchanges.\\tIt\\tdoesn’t\\tget\\ta\\tlot\\tbetter,\\tit\\tdoesn’t\\tget\\ta\\tlot\\tworse.\\tIt\\tjust\\tis.', lookup_str='', metadata={'source': './The Dip A Little Book That Teaches You When to Quit (and When to Stick).pdf', 'page': 28}, lookup_index=0),\n",
       "  Document(page_content='The\\tthing\\tis,\\ta\\tprofession\\tin\\tselling\\tisn’t\\tlike\\tsmoking\\tcigarettes.\\tNeither\\tis\\nmaking\\tit\\tas\\ta\\tsinger\\tor\\tbuilding\\ta\\tlong-term\\trelationship\\twith\\tsomeone\\tyou\\tcare\\nabout.\\tMost\\tof\\tthe\\ttime,\\tthe\\tother\\ttwo\\tcurves\\tare\\tin\\tforce.\\tThe\\tDip\\tand\\tthe\\tCul-\\nde-Sac\\taren’t\\tlinear.\\tThey\\tdon’t\\tspoon\\tfeed\\tyou\\twith\\tlittle\\tbits\\tof\\timprovement\\nevery\\tday.\\tAnd\\tthey’re\\tjust\\twaiting\\tto\\ttrip\\tyou\\tup.\\nIf\\tIt\\tIs\\tWorth\\tDoing,\\tThere’s\\tProbably\\ta\\tDip\\nTennis\\thas\\ta\\tDip.\\tThe\\tdifference\\tbetween\\ta\\tmediocre\\tclub\\tplayer\\tand\\ta\\tregional\\nchampion\\tisn’t\\tinborn\\ttalent—it’s\\tthe\\tability\\tto\\tpush\\tthrough\\tthe\\tmoments\\twhere\\nit’s\\tjust\\teasier\\tto\\tquit.\\tPolitics\\thas\\ta\\tDip\\tas\\twell—it’s\\tway\\tmore\\tfun\\tto\\twin\\tan\\nelection\\tthan\\tto\\tlose\\tone,\\tand\\tthe\\tentire\\tprocess\\tis\\tbuilt\\taround\\tmany\\tpeople\\nstarting\\twhile\\tmost\\tpeople\\tquit.\\nThe\\tDip\\tcreates\\tscarcity;\\tscarcity\\tcreates\\tvalue.\\nThe\\tCul-de-Sac\\tand\\tthe\\tCliff\\tAre\\tthe\\tCurves\\tThat\\tLead\\tto\\tFailure\\nIf\\tyou\\tfind\\tyourself\\tfacing\\teither\\tof\\tthese\\ttwo\\tcurves,\\tyou\\tneed\\tto\\tquit.\\tNot\\tsoon,\\nbut\\tright\\tnow.\\tThe\\tbiggest\\tobstacle\\tto\\tsuccess\\tin\\tlife,\\tas\\tfar\\tas\\tI\\tcan\\ttell,\\tis\\tour\\ninability\\tto\\tquit\\tthese\\tcurves\\tsoon\\tenough.\\nIt’s\\teasy\\tto\\tcomplain\\tthat\\tthe\\tadvice\\tin\\tthis\\tlittle\\tbook\\tis\\tbrain-dead\\tobvious.\\nI\\tmean,\\twho\\tdoesn’t\\talready\\tknow\\tthat\\tthe\\tsecret\\tto\\tsuccess\\tis\\tto\\tbe\\tsuccessful,', lookup_str='', metadata={'source': './The Dip A Little Book That Teaches You When to Quit (and When to Stick).pdf', 'page': 30}, lookup_index=0)]}"
      ]
     },
     "execution_count": 61,
     "metadata": {},
     "output_type": "execute_result"
    }
   ],
   "source": [
    "question = \"how many dip curves are there? Summarize them?\"\n",
    "response = model({\"query\":question})\n",
    "response"
   ]
  },
  {
   "cell_type": "code",
   "execution_count": 62,
   "metadata": {},
   "outputs": [
    {
     "data": {
      "text/plain": [
       "{'query': 'what is ego dip?',\n",
       " 'result': \" Ego dip is the dip that people get stuck in when they can't give up control or the spotlight.\",\n",
       " 'source_documents': [Document(page_content='THE\\tDIP', lookup_str='', metadata={'source': './The Dip A Little Book That Teaches You When to Quit (and When to Stick).pdf', 'page': 1}, lookup_index=0),\n",
       "  Document(page_content='THE\\tDIP', lookup_str='', metadata={'source': './The Dip A Little Book That Teaches You When to Quit (and When to Stick).pdf', 'page': 7}, lookup_index=0),\n",
       "  Document(page_content='THE\\tDIP\\nA\\tLITTLE\\tBOOK\\tTHAT\\tTEACHES\\tYOU\\nWHEN\\tTO\\tQUIT\\t(AND\\tWHEN\\tTO\\tSTICK)\\nSeth\\tGodin', lookup_str='', metadata={'source': './The Dip A Little Book That Teaches You When to Quit (and When to Stick).pdf', 'page': 2}, lookup_index=0),\n",
       "  Document(page_content='bigger\\tspace\\tor\\tinvest\\tin\\tnew\\ttechniques.\\tSuccessful\\tentrepreneurs\\tunderstand\\nthe\\tdifference\\tbetween\\tinvesting\\tto\\tget\\tthrough\\tthe\\tDip\\t(a\\tsmart\\tmove)\\tor\\ninvesting\\tin\\tsomething\\tthat’s\\tactually\\ta\\trisky\\tcrapshoot.\\nRELATIONSHIP\\tDIP\\n—There\\tare\\tpeople\\tand\\torganizations\\tthat\\tcan\\thelp\\tyou\\nlater\\tbut\\tonly\\tif\\tyou\\tinvest\\tthe\\ttime\\tand\\teffort\\tto\\twork\\twith\\tthem\\tnow,\\teven\\nthough\\tnow\\tis\\tnot\\tnecessarily\\tthe\\teasy\\ttime\\tfor\\tyou\\tto\\tdo\\tit.\\tThat\\tkid\\twho\\tstarted\\nin\\tthe\\tmail\\troom—who\\twas\\talways\\teager\\tto\\tdo\\tan\\terrand\\tfor\\tyou\\tor\\tstay\\tlate\\tto\\nhelp\\tout—she’s\\tnow\\tthe\\tCEO.\\tThe\\trelationships\\tshe\\tbuilt\\twhen\\tit\\twas\\tdifficult\\nto\\tdo\\tso\\tpaid\\toff\\tlater.\\tThose\\tshortsighted\\tpeople\\twho\\tare\\talways\\teager\\tfor\\ta\\nfavor\\tor\\ta\\tbreak\\tnever\\tmanage\\tto\\tget\\tthrough\\tthe\\trelationship\\tDip,\\tbecause\\tthey\\ndidn’t\\tinvest\\tin\\trelationships\\tback\\twhen\\tit\\twas\\tdifficult\\t(but\\tnot\\turgent).\\nCONCEPTUAL\\tDIP\\n—You\\tgot\\tthis\\tfar\\toperating\\tunder\\tone\\tset\\tof\\tassumptions.\\nAbandoning\\tthose\\tassumptions\\tand\\tembracing\\ta\\tnew,\\tbigger\\tset\\tmay\\tbe\\texactly\\nwhat\\tyou\\tneed\\tto\\tdo\\tto\\tget\\tto\\tthe\\tnext\\tlevel.\\tThe\\theroes\\twho\\thave\\treinvented\\ninstitutions\\tand\\tindustries\\t(everyone\\tfrom\\tMartin\\tLuther\\tKing,\\tJr.,\\tto\\tRichard\\nBranson,\\tfrom\\tZelma\\tWatson\\tGeorge\\tto\\tJacqueline\\tNovogratz)\\tall\\tdid\\tit\\tin\\nexactly\\tthe\\tsame\\tway—by\\tworking\\tthrough\\ta\\tconceptual\\tDip\\tall\\tthe\\tway\\tto\\tthe\\nother\\tside.\\nEGO\\tDIP\\n—When\\tit’s\\tall\\tabout\\tyou,\\tit’s\\teasier.\\tGiving\\tup\\tcontrol\\tand\\tleaning\\ninto\\tthe\\torganization\\tgives\\tyou\\tleverage.\\tMost\\tpeople\\tcan’t\\tdo\\tthis;\\tthey\\tcan’t\\ngive\\tup\\tcontrol\\tor\\tthe\\tspotlight.\\tThey\\tget\\tstuck\\tin\\tthat\\tDip.\\nDISTRIBUTION\\tDIP\\n—Some\\tretailers\\t(local\\tstrip\\tmalls,\\tthe\\tWeb)\\tmake\\tit\\teasy\\nfor\\tyour\\tproduct\\tto\\tget\\tdistribution,\\twhile\\tothers\\t(Target)\\trequire\\tan\\tinvestment\\nfrom\\tyour\\torganization\\tthat\\tmay\\tjust\\tpay\\toff.\\tGetting\\tyour\\tproduct\\tinto\\tWal-\\nMart\\tis\\tfar\\tmore\\tlikely\\tto\\tlead\\tto\\thuge\\tsales\\tthan\\tis\\tputting\\tit\\ton\\tthe\\tWeb.\\tWhy?\\nScarcity.\\tEveryone\\tis\\ton\\tthe\\tWeb,\\tbut\\tgetting\\tinto\\tWal-Mart\\tis\\thard.\\nSeeing\\tthe\\tCurve\\tin\\tAdvance\\nAs\\tyou’ll\\tsee\\tin\\tthe\\tspace-shuttle\\tanalysis\\tthat\\tfollows,\\tit’s\\tpretty\\teasy\\tto', lookup_str='', metadata={'source': './The Dip A Little Book That Teaches You When to Quit (and When to Stick).pdf', 'page': 41}, lookup_index=0)]}"
      ]
     },
     "execution_count": 62,
     "metadata": {},
     "output_type": "execute_result"
    }
   ],
   "source": [
    "question = \"what is ego dip?\"\n",
    "response = model({\"query\":question})\n",
    "response"
   ]
  },
  {
   "cell_type": "code",
   "execution_count": 63,
   "metadata": {},
   "outputs": [
    {
     "data": {
      "text/plain": [
       "{'query': 'what flavors of ice creams mentioned?',\n",
       " 'result': \" Strawberry, Neapolitan, Vanilla, French Vanilla, Cookies 'n' Cream, and Chocolate Chip.\",\n",
       " 'source_documents': [Document(page_content='Strawberry\\nNeapolitan', lookup_str='', metadata={'source': './The Dip A Little Book That Teaches You When to Quit (and When to Stick).pdf', 'page': 16}, lookup_index=0),\n",
       "  Document(page_content='Vanilla', lookup_str='', metadata={'source': './The Dip A Little Book That Teaches You When to Quit (and When to Stick).pdf', 'page': 13}, lookup_index=0),\n",
       "  Document(page_content='French\\tVanilla\\nCookies\\t’n’\\tCream', lookup_str='', metadata={'source': './The Dip A Little Book That Teaches You When to Quit (and When to Stick).pdf', 'page': 18}, lookup_index=0),\n",
       "  Document(page_content='Chocolate\\tChip', lookup_str='', metadata={'source': './The Dip A Little Book That Teaches You When to Quit (and When to Stick).pdf', 'page': 17}, lookup_index=0)]}"
      ]
     },
     "execution_count": 63,
     "metadata": {},
     "output_type": "execute_result"
    }
   ],
   "source": [
    "question = \"what flavors of ice creams mentioned?\"\n",
    "response = model({\"query\":question})\n",
    "response"
   ]
  },
  {
   "cell_type": "code",
   "execution_count": 64,
   "metadata": {},
   "outputs": [
    {
     "data": {
      "text/plain": [
       "{'query': 'how to be best in the world?',\n",
       " 'result': \" To be the best in the world, you need to find a field with a steep Dip - a barrier between those who try and those who succeed. You must also quit all the projects and investments that don't offer you the same opportunity. Finally, you need to have the guts to get through the hard stuff and come out on the other side.\",\n",
       " 'source_documents': [Document(page_content='Being\\tthe\\tBest\\tin\\tthe\\tWorld\\nIs\\tSeriously\\tUnderrated', lookup_str='', metadata={'source': './The Dip A Little Book That Teaches You When to Quit (and When to Stick).pdf', 'page': 9}, lookup_index=0),\n",
       "  Document(page_content='Contents\\nBeing\\tthe\\tBest\\tin\\tthe\\tWorld\\tIs\\tSeriously\\tUnderrated\\nIf\\tYou’re\\tNot\\tGoing\\tto\\tGet\\tto\\t#1,\\tYou\\tMight\\tas\\tWell\\tQuit\\tNow.\\nThe\\tBest\\tin\\tthe\\tWorld?\\nAcknowledgments', lookup_str='', metadata={'source': './The Dip A Little Book That Teaches You When to Quit (and When to Stick).pdf', 'page': 8}, lookup_index=0),\n",
       "  Document(page_content='In\\tboth\\tcases,\\tit’s\\tabout\\tbeing\\tthe\\tbest\\tin\\tthe\\tworld.\\tAbout\\tgetting\\tthrough\\nthe\\thard\\tstuff\\tand\\tcoming\\tout\\ton\\tthe\\tother\\tside.\\n\\t\\nQuit\\tthe\\twrong\\tstuff.\\nStick\\twith\\tthe\\tright\\tstuff.\\nHave\\tthe\\tguts\\tto\\tdo\\tone\\tor\\tthe\\tother.\\n\\t\\nThe\\tBest\\tin\\tthe\\tWorld\\nHannah\\tSmith\\tis\\ta\\tvery\\tlucky\\twoman.\\tShe’s\\ta\\tlaw\\tclerk\\tat\\tthe\\tSupreme\\tCourt.\\nShe’s\\tthe\\tbest\\tin\\tthe\\tworld.\\nLast\\tyear,\\tmore\\tthan\\tforty-two\\tthousand\\tpeople\\tgraduated\\tfrom\\tlaw\\tschool\\nin\\tthe\\tUnited\\tStates.\\tAnd\\tthirty-seven\\tof\\tthem\\twere\\tawarded\\tSupreme\\tCourt\\nclerkships.\\nThose\\tthirty-seven\\tpeople\\tare\\tessentially\\tguaranteed\\ta\\tjob\\tfor\\tlife\\tafter\\tthey\\nfinish\\ttheir\\tyear\\twith\\tthe\\tCourt.\\tTop\\tlaw\\tfirms\\troutinely\\tpay\\ta\\tsigning\\tbonus\\tof\\n$200,000\\tor\\tmore\\tto\\tany\\tclerk\\tthey\\tare\\table\\tto\\thire.\\tClerks\\tgo\\ton\\tto\\tbecome\\npartners,\\tjudges,\\tand\\tsenators.\\nThere\\tare\\ttwo\\tthings\\tworth\\tnoting\\there.\\tThe\\tfirst\\tis\\tthat\\tHannah\\tSmith\\tisn’t\\nlucky\\tat\\tall.\\tShe’s\\tsmart\\tand\\tfocused\\tand\\tincredibly\\thardworking.\\nAnd\\tthe\\tsecond\\tthing?\\tThat\\tany\\tone\\tof\\tthe\\tforty-two\\tthousand\\tpeople\\twho\\ngraduated\\tfrom\\tlaw\\tschool\\tlast\\tyear\\tcould\\thave\\thad\\tHannah’s\\tjob.\\tExcept\\tthey\\ndidn’t.\\tNot\\tbecause\\tthey\\tweren’t\\tsmart\\tenough\\tor\\tbecause\\tthey\\tcame\\tfrom\\tthe\\nwrong\\tfamily.\\tNo,\\tthe\\treason\\tthat\\tmost\\tof\\tthem\\tdidn’t\\thave\\ta\\tchance\\tis\\tthat\\nsomewhere\\talong\\tthe\\tway\\tthey\\tquit.\\tThey\\tdidn’t\\tquit\\thigh\\tschool\\tor\\tcollege\\tor\\nlaw\\tschool.\\tInstead,\\tthey\\tquit\\tin\\ttheir\\tquest\\tto\\tbe\\tthe\\tbest\\tin\\tthe\\tworld\\tbecause\\nthe\\tcost\\tjust\\tseemed\\ttoo\\thigh.\\nThis\\tis\\ta\\tvery\\tshort\\tbook\\tabout\\ta\\tvery\\timportant\\ttopic:\\tquitting.\\tBelieve\\tit\\tor\\nnot,\\tquitting\\tis\\toften\\ta\\tgreat\\tstrategy,\\ta\\tsmart\\tway\\tto\\tmanage\\tyour\\tlife\\tand\\tyour', lookup_str='', metadata={'source': './The Dip A Little Book That Teaches You When to Quit (and When to Stick).pdf', 'page': 11}, lookup_index=0),\n",
       "  Document(page_content='If\\tyou\\tcan\\tembrace\\tthat\\tsimple\\trule,\\tyou’ll\\tbe\\ta\\tlot\\tchoosier\\tabout\\twhich\\njourneys\\tyou\\tstart.\\nSuperstar\\tThinking\\nSuperstars\\tget\\twhat\\tthey\\twant\\tbecause\\tthey\\thave\\tunique\\tskills.\\tSuperstars\\ncommand\\tfar\\tmore\\tthan\\ttheir\\tfair\\tshare\\tof\\tincome,\\trespect,\\tand\\topportunity\\nbecause\\tthere\\tare\\tvery\\tfew\\tother\\tchoices\\tfor\\ta\\tcustomer\\tor\\tan\\temployer\\tseeking\\nthe\\textraordinary.\\nA\\tsuperstar\\treal\\testate\\tagent\\tgets\\tfive\\tor\\tten\\ttimes\\tthe\\tnumber\\tof\\tlistings\\tas\\nan\\tordinary\\tone.\\tA\\tsuperstar\\tlawyer\\thas\\tall\\tthe\\twork\\tshe\\tcan\\thandle,\\tregardless\\nof\\ther\\tspecialty.\\tA\\tsuperstar\\tmusician\\tcommands\\ta\\tthousand\\ttimes\\tthe\\tincome\\nper\\tperformance\\tas\\tan\\taverage\\tmusician.\\tA\\tsuperstar\\tis\\tthe\\tbest\\tin\\tthe\\tworld\\tat\\nwhat\\tshe\\tdoes.\\nIf\\tyou\\twant\\tto\\tbe\\ta\\tsuperstar,\\tthen\\tyou\\tneed\\tto\\tfind\\ta\\tfield\\twith\\ta\\tsteep\\tDip\\n—a\\tbarrier\\tbetween\\tthose\\twho\\ttry\\tand\\tthose\\twho\\tsucceed.\\tAnd\\tyou’ve\\tgot\\tto\\tget\\nthrough\\tthat\\tDip\\tto\\tthe\\tother\\tside.\\tThis\\tisn’t\\tfor\\teveryone.\\tIf\\tit\\twere,\\tthere’d\\tbe\\nno\\tsuperstars.\\tIf\\tyou\\tchoose\\tthis\\tpath,\\tit’s\\tbecause\\tyou\\trealize\\tthat\\tthere’s\\ta\\tDip,\\nand\\tyou\\tbelieve\\tyou\\tcan\\tget\\tthrough\\tit.\\tThe\\tDip\\tis\\tactually\\tyour\\tgreatest\\tally\\nbecause\\tit\\tmakes\\tthe\\tproject\\tworthwhile\\t(and\\tkeeps\\tothers\\tfrom\\tcompeting\\twith\\nyou).\\nBut\\twait,\\tthat’s\\tnot\\tenough.\\tNot\\tonly\\tdo\\tyou\\tneed\\tto\\tfind\\ta\\tDip\\tthat\\tyou\\tcan\\nconquer\\tbut\\tyou\\talso\\tneed\\tto\\tquit\\tall\\tthe\\tCul-de-Sacs\\tthat\\tyou’re\\tcurrently\\tidling\\nyour\\tway\\tthrough.\\tYou\\tmust\\tquit\\tthe\\tprojects\\tand\\tinvestments\\tand\\tendeavors\\nthat\\tdon’t\\toffer\\tyou\\tthe\\tsame\\topportunity.\\tIt’s\\tdifficult,\\tbut\\tit’s\\tvitally\\timportant.\\nBeing\\tbetter\\tthan\\t98\\tpercent\\tof\\tthe\\tcompetition\\tused\\tto\\tbe\\tfine.\\tIn\\tthe\\tworld\\nof\\tGoogle,\\tthough,\\tit’s\\tuseless.\\tIt’s\\tuseless\\tbecause\\tall\\tof\\tyour\\tcompetition\\tis\\tjust\\na\\tclick\\taway,\\twhatever\\tit\\tis\\tyou\\tdo.\\tThe\\tonly\\tposition\\tyou\\tcan\\tcount\\ton\\tnow\\tis\\nbest\\tin\\tthe\\tworld.\\nSeven\\tReasons\\tYou\\tMight\\tFail\\tto\\tBecome\\nthe\\tBest\\tin\\tthe\\tWorld\\nYou\\trun\\tout\\tof\\ttime\\t(and\\tquit).', lookup_str='', metadata={'source': './The Dip A Little Book That Teaches You When to Quit (and When to Stick).pdf', 'page': 37}, lookup_index=0)]}"
      ]
     },
     "execution_count": 64,
     "metadata": {},
     "output_type": "execute_result"
    }
   ],
   "source": [
    "question = \"how to be best in the world?\"\n",
    "response = model({\"query\":question})\n",
    "response"
   ]
  },
  {
   "cell_type": "code",
   "execution_count": null,
   "metadata": {},
   "outputs": [],
   "source": []
  }
 ],
 "metadata": {
  "kernelspec": {
   "display_name": "venv",
   "language": "python",
   "name": "python3"
  },
  "language_info": {
   "codemirror_mode": {
    "name": "ipython",
    "version": 3
   },
   "file_extension": ".py",
   "mimetype": "text/x-python",
   "name": "python",
   "nbconvert_exporter": "python",
   "pygments_lexer": "ipython3",
   "version": "3.9.6"
  },
  "orig_nbformat": 4
 },
 "nbformat": 4,
 "nbformat_minor": 2
}
